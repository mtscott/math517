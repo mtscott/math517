{
 "cells": [
  {
   "cell_type": "markdown",
   "metadata": {
    "id": "Dj3QMUA7KCS_"
   },
   "source": [
    "# Reordering\n",
    "\n"
   ]
  },
  {
   "cell_type": "code",
   "execution_count": 1,
   "metadata": {
    "id": "lha0K6TL1QHR"
   },
   "outputs": [],
   "source": [
    "import numpy as np\n",
    "from scipy.sparse import diags, eye, kron\n",
    "\n",
    "def tridiag(a, b, c, n):\n",
    "    # Create a tridiagonal matrix\n",
    "    return diags([a*np.ones(n-1), b*np.ones(n), c*np.ones(n-1)], [-1, 0, 1], format='csr')\n",
    "\n",
    "def fd3d(nx, ny, nz, alpx, alpy, alpz, dshift):\n",
    "    # Create tridiagonal matrices tx, ty, tz\n",
    "    tx = tridiag(-1+alpx, 2, -1-alpx, nx)\n",
    "    ty = tridiag(-1+alpy, 2, -1-alpy, ny)\n",
    "    tz = tridiag(-1+alpz, 2, -1-alpz, nz)\n",
    "\n",
    "    # Compute A using Kronecker products\n",
    "    A = kron(eye(ny), tx) + kron(ty, eye(nx))\n",
    "    if nz > 1:\n",
    "        A = kron(eye(nz), A) + kron(tz, eye(nx*ny))\n",
    "\n",
    "    # Subtract dshift times identity matrix from A\n",
    "    A -= dshift * eye(nx*ny*nz)\n",
    "\n",
    "    return A"
   ]
  },
  {
   "cell_type": "code",
   "execution_count": null,
   "metadata": {
    "id": "C3uzbDRd1XPm"
   },
   "outputs": [],
   "source": [
    "A = fd3d(15,1,1,0,0,0,0)"
   ]
  },
  {
   "cell_type": "code",
   "execution_count": null,
   "metadata": {
    "colab": {
     "base_uri": "https://localhost:8080/"
    },
    "id": "CWxJCKWW1sRs",
    "outputId": "385c3198-3d85-46b1-a8b8-2037d8851c67"
   },
   "outputs": [],
   "source": [
    "from scipy.sparse.linalg import splu\n",
    "lu = splu(A,'NATURAL')\n",
    "print(lu.nnz)\n"
   ]
  },
  {
   "cell_type": "code",
   "execution_count": null,
   "metadata": {
    "colab": {
     "base_uri": "https://localhost:8080/"
    },
    "id": "nGW8YgBt3Yv7",
    "outputId": "81f9d5f5-ebc0-4bec-fe8f-773737014b09"
   },
   "outputs": [],
   "source": [
    "lu2 = splu(A,'COLAMD')\n",
    "print(lu2.nnz)"
   ]
  },
  {
   "cell_type": "code",
   "execution_count": null,
   "metadata": {
    "colab": {
     "base_uri": "https://localhost:8080/",
     "height": 435
    },
    "id": "iUM71eOd4hVL",
    "outputId": "41249554-f37e-4090-86f0-9238a4463330"
   },
   "outputs": [],
   "source": [
    "import matplotlib.pyplot as plt\n",
    "plt.spy(lu.L+lu.U)\n",
    "plt.show()"
   ]
  },
  {
   "cell_type": "code",
   "execution_count": null,
   "metadata": {
    "colab": {
     "base_uri": "https://localhost:8080/",
     "height": 435
    },
    "id": "N4Qm3qVS4xe6",
    "outputId": "b33eae97-c0af-4ae2-ae51-b63c291b903a"
   },
   "outputs": [],
   "source": [
    "import matplotlib.pyplot as plt\n",
    "plt.spy(lu2.L+lu2.U)\n",
    "plt.show()"
   ]
  },
  {
   "cell_type": "code",
   "execution_count": null,
   "metadata": {
    "colab": {
     "base_uri": "https://localhost:8080/"
    },
    "id": "AOUCREc2Oaq0",
    "outputId": "63f29d1a-f780-47ab-e8bc-0fad821a4a19"
   },
   "outputs": [],
   "source": [
    "!sudo apt-get install -y metis"
   ]
  },
  {
   "cell_type": "code",
   "execution_count": null,
   "metadata": {
    "colab": {
     "base_uri": "https://localhost:8080/"
    },
    "id": "vNouqQRfimn9",
    "outputId": "2b7ba14f-5b51-478a-cb31-102a6e75cbca"
   },
   "outputs": [],
   "source": [
    "pip install metis"
   ]
  },
  {
   "cell_type": "code",
   "execution_count": null,
   "metadata": {
    "colab": {
     "base_uri": "https://localhost:8080/"
    },
    "id": "h-0oWVmYJT3X",
    "outputId": "fba4e16e-724f-47f1-8b15-023546b46768"
   },
   "outputs": [],
   "source": [
    "\n",
    "\n",
    "\n"
   ]
  },
  {
   "cell_type": "code",
   "execution_count": 5,
   "metadata": {
    "id": "bvxahk3q666o"
   },
   "outputs": [],
   "source": [
    "import numpy as np\n",
    "from scipy.sparse import diags, eye, kron\n",
    "\n",
    "def tridiag(a, b, c, n):\n",
    "    # Create a tridiagonal matrix\n",
    "    return diags([a*np.ones(n-1), b*np.ones(n), c*np.ones(n-1)], [-1, 0, 1], format='csr')\n",
    "\n",
    "def fd3d(nx, ny, nz, alpx, alpy, alpz, dshift):\n",
    "    # Create tridiagonal matrices tx, ty, tz\n",
    "    tx = tridiag(-1+alpx, 2, -1-alpx, nx)\n",
    "    ty = tridiag(-1+alpy, 2, -1-alpy, ny)\n",
    "    tz = tridiag(-1+alpz, 2, -1-alpz, nz)\n",
    "\n",
    "    # Compute A using Kronecker products\n",
    "    A = tx\n",
    "    if ny > 1:\n",
    "        A = kron(eye(ny), A) + kron(ty, eye(nx))\n",
    "        if nz > 1:\n",
    "            A = kron(eye(nz), A) + kron(tz, eye(nx*ny))\n",
    "\n",
    "    # Subtract dshift times identity matrix from A\n",
    "    A -= dshift * eye(nx*ny*nz)\n",
    "\n",
    "    return A"
   ]
  },
  {
   "cell_type": "code",
   "execution_count": 6,
   "metadata": {
    "id": "5XQwIYnrDcDN"
   },
   "outputs": [],
   "source": [
    "nnx = 6\n",
    "nny = 1\n",
    "nnz = 1"
   ]
  },
  {
   "cell_type": "code",
   "execution_count": 7,
   "metadata": {
    "id": "H_HcBVS768rZ"
   },
   "outputs": [],
   "source": [
    "A = fd3d(nnx,nny,1,0,0,0,0)"
   ]
  },
  {
   "cell_type": "code",
   "execution_count": null,
   "metadata": {
    "id": "DAjfqjNw7tr1"
   },
   "outputs": [],
   "source": [
    "import scipy as sp\n",
    "import metis"
   ]
  },
  {
   "cell_type": "code",
   "execution_count": 8,
   "metadata": {
    "id": "SKEJX1W_7F_S"
   },
   "outputs": [
    {
     "name": "stdout",
     "output_type": "stream",
     "text": [
      "  (0, 0)\t2.0\n",
      "  (0, 1)\t-1.0\n",
      "  (1, 0)\t-1.0\n",
      "  (1, 1)\t2.0\n",
      "  (1, 2)\t-1.0\n",
      "  (2, 1)\t-1.0\n",
      "  (2, 2)\t2.0\n",
      "  (2, 3)\t-1.0\n",
      "  (3, 2)\t-1.0\n",
      "  (3, 3)\t2.0\n",
      "  (3, 4)\t-1.0\n",
      "  (4, 3)\t-1.0\n",
      "  (4, 4)\t2.0\n",
      "  (4, 5)\t-1.0\n",
      "  (5, 4)\t-1.0\n",
      "  (5, 5)\t2.0\n"
     ]
    }
   ],
   "source": [
    "print(A)"
   ]
  },
  {
   "cell_type": "code",
   "execution_count": null,
   "metadata": {
    "id": "JStac5mO7YN8"
   },
   "outputs": [],
   "source": [
    "def sparse_matrix_to_adjacency_list(sparse_matrix):\n",
    "    adjacency_list = {}\n",
    "    rows, cols = sparse_matrix.nonzero()\n",
    "\n",
    "    for row, col in zip(rows, cols):\n",
    "        if row not in adjacency_list:\n",
    "            adjacency_list[row] = []\n",
    "        adjacency_list[row].append(col)\n",
    "\n",
    "    return adjacency_list"
   ]
  },
  {
   "cell_type": "code",
   "execution_count": null,
   "metadata": {
    "colab": {
     "base_uri": "https://localhost:8080/",
     "height": 534
    },
    "id": "ZKfeBtYA6_y5",
    "outputId": "5bdfb163-9f69-4f15-c884-36824204ed7a"
   },
   "outputs": [],
   "source": [
    "import metis\n",
    "import networkx as nx\n",
    "import matplotlib.pyplot as plt\n",
    "\n",
    "# Convert the sparse matrix to an adjacency list\n",
    "adjlist = sparse_matrix_to_adjacency_list(A)\n",
    "G = nx.Graph()\n",
    "\n",
    "# Add edges to the graph\n",
    "for node, neighbors in adjlist.items():\n",
    "    for neighbor in neighbors:\n",
    "        G.add_edge(node, neighbor)\n",
    "\n",
    "# Apply nested dissection ordering\n",
    "_, parts = metis.part_graph(G, 2)\n",
    "print(\"Nested Dissection Ordering:\", parts)\n",
    "\n",
    "# Assign colors to nodes based on their partition\n",
    "colors = ['red' if part == 0 else 'blue' for part in parts]\n",
    "\n",
    "\n",
    "pos = {node: (node % grid_width, -node // grid_width) for node in G.nodes()}\n",
    "\n",
    "# Draw the graph\n",
    "pos = nx.spring_layout(G)  # positions for all nodes\n",
    "nx.draw(G, pos, node_color=colors, with_labels=True, node_size=700)\n",
    "plt.show()\n"
   ]
  },
  {
   "cell_type": "code",
   "execution_count": null,
   "metadata": {
    "colab": {
     "base_uri": "https://localhost:8080/"
    },
    "id": "JnfsXu5-8z1j",
    "outputId": "78ab9a84-c178-40be-9936-aba0b790c2b1"
   },
   "outputs": [],
   "source": [
    "import networkx as nx\n",
    "from scipy.sparse import csr_matrix\n",
    "import numpy as np\n",
    "import metis\n",
    "\n",
    "def sparse_matrix_to_graph(sparse_matrix):\n",
    "    \"\"\"Convert a scipy sparse matrix to a networkx graph.\"\"\"\n",
    "    G = nx.Graph()\n",
    "    G.add_nodes_from(range(sparse_matrix.shape[0]))\n",
    "    cx = sparse_matrix.tocoo()\n",
    "    for i, j, v in zip(cx.row, cx.col, cx.data):\n",
    "        # Add each edge once\n",
    "        if i <= j:\n",
    "            G.add_edge(i, j, weight=v)\n",
    "    return G\n",
    "\n",
    "def find_separator(G):\n",
    "    \"\"\"Partition the graph and identify the separator nodes, ensuring separator nodes are not in part_1 or part_2.\"\"\"\n",
    "    # Partition the graph into two parts\n",
    "    edgecuts, parts = metis.part_graph(G, 2)\n",
    "\n",
    "    # Initially identify nodes in each part\n",
    "    initial_part_1 = [node for node in G.nodes() if parts[node] == 0]\n",
    "    initial_part_2 = [node for node in G.nodes() if parts[node] == 1]\n",
    "\n",
    "    # Identify separator nodes: nodes with edges that cross the partition\n",
    "    separator = set()\n",
    "    for edge in G.edges():\n",
    "        if parts[edge[0]] != parts[edge[1]]:\n",
    "            separator.add(edge[0])\n",
    "            separator.add(edge[1])\n",
    "\n",
    "    # Remove separator nodes from initial_part_1 and initial_part_2\n",
    "    part_1 = [node for node in initial_part_1 if node not in separator]\n",
    "    part_2 = [node for node in initial_part_2 if node not in separator]\n",
    "\n",
    "    return part_1, part_2, list(separator)\n",
    "\n",
    "\n",
    "\n",
    "# Convert the sparse matrix to a graph\n",
    "G2 = sparse_matrix_to_graph(A)\n",
    "\n",
    "# Find the separator\n",
    "part_1, part_2, separator = find_separator(G2)\n",
    "print(\"Part 1:\", part_1)\n",
    "print(\"Part 2:\", part_2)\n",
    "print(\"Separator:\", separator)"
   ]
  },
  {
   "cell_type": "code",
   "execution_count": null,
   "metadata": {
    "colab": {
     "base_uri": "https://localhost:8080/",
     "height": 516
    },
    "id": "QvemoLZjDYeD",
    "outputId": "c9be203d-651d-4a68-d64d-c8819e126c9e"
   },
   "outputs": [],
   "source": [
    "import matplotlib.pyplot as plt\n",
    "import networkx as nx\n",
    "\n",
    "# Assuming G2 is your graph, and part_1, part_2, and separator lists are defined\n",
    "\n",
    "# Grid size\n",
    "grid_width, grid_height = nnx, nny\n",
    "\n",
    "# Generate grid positions for a nnx*nny grid\n",
    "pos = {node: (node % grid_width, -node // grid_width) for node in G2.nodes()}\n",
    "\n",
    "# Assign colors and sizes based on node roles: part_1, part_2, and separator\n",
    "colors = ['red' if node in part_1 else 'blue' if node in part_2 else 'green' for node in G2.nodes()]\n",
    "sizes = [700 if node not in separator else 1000 for node in G2.nodes()]  # Larger size for separator nodes\n",
    "\n",
    "# Draw the graph maintaining the grid topology\n",
    "nx.draw(G2, pos, node_color=colors, with_labels=True, node_size=sizes, edge_color='gray')\n",
    "\n",
    "plt.show()"
   ]
  }
 ],
 "metadata": {
  "colab": {
   "provenance": []
  },
  "kernelspec": {
   "display_name": "Python 3 (ipykernel)",
   "language": "python",
   "name": "python3"
  },
  "language_info": {
   "codemirror_mode": {
    "name": "ipython",
    "version": 3
   },
   "file_extension": ".py",
   "mimetype": "text/x-python",
   "name": "python",
   "nbconvert_exporter": "python",
   "pygments_lexer": "ipython3",
   "version": "3.11.7"
  }
 },
 "nbformat": 4,
 "nbformat_minor": 4
}
