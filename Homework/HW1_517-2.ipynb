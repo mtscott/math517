{
 "cells": [
  {
   "cell_type": "markdown",
   "metadata": {
    "id": "CsS1nFpJCvhR"
   },
   "source": [
    "Your name: Mitchell Scott (mtscot4)"
   ]
  },
  {
   "cell_type": "markdown",
   "metadata": {
    "id": "UdmjYKYRCzrX"
   },
   "source": [
    "Please complete the following two problems and submit your colab notebook on canvas. Make sure you save all the outputs and your code is excutable on my computer. This homework covers the first two lectures."
   ]
  },
  {
   "cell_type": "markdown",
   "metadata": {
    "id": "LNs18zrW3cpK"
   },
   "source": [
    "#**Problem 1** Read the following detailed explanation of FEM and Fenics tutorial and propose a method to improve the accuracy of the output of the following code (You only need to modify one or a few parameters in the provided code and rerun the code). (40pts)"
   ]
  },
  {
   "cell_type": "markdown",
   "metadata": {
    "id": "rA7YxEo7WZiN"
   },
   "source": [
    "# Mathematical problem formulation\n",
    "\n",
    "Many books on programming languages start with a “Hello, World!” program. Readers are curious to know how fundamental tasks are expressed in the language, and printing a text to the screen can be such a task. In the world of finite element methods for PDEs, the most fundamental task must be to solve the Poisson equation. Our counterpart to the classical “Hello, World!” program therefore solves the following boundary-value problem:\n",
    "\n",
    "$$\n",
    "-\\nabla^2 u(x) = f(x), \\quad x \\text{ in } \\Omega, \\quad (1)\n",
    "$$\n",
    "\n",
    "$$\n",
    "u(x) = u_D(x), \\quad x \\text{ on } \\partial\\Omega. \\quad (2)\n",
    "$$\n",
    "\n",
    "Here, \\( u = u(x) \\) is the unknown function, \\( f = f(x) \\) is a prescribed function, $\\nabla^2$ is the Laplace operator (often written as $\\Delta$, $\\Omega$ is the spatial domain, and $\\partial\\Omega$ is the boundary of $\\Omega$. The Poisson problem, including both the PDE $-\\nabla^2 u = f$ and the boundary condition \\( u = u_D \\) on $\\partial\\Omega$, is an example of a boundary-value problem, which must be precisely stated before it makes sense to start\n"
   ]
  },
  {
   "cell_type": "markdown",
   "metadata": {
    "id": "KHf3sP68WFDe"
   },
   "source": [
    "Solving a boundary-value problem such as the Poisson equation in FEniCS consists of the following steps:\n",
    "\n",
    "\n",
    "1.  Identify the computational domain (Ω), the PDE, its boundary conditions, and source terms (f).\n",
    "2.  Reformulate the PDE as a finite element variational problem.\n",
    "3.  Write a Python program which defines the computational domain, the variational problem, the boundary conditions, and source terms, using the corresponding FEniCS abstractions.\n",
    "4. Call FEniCS to solve the boundary-value problem and, optionally, extend the program to compute derived quantities such as fluxes and averages, and visualize the results.\n",
    "\n"
   ]
  },
  {
   "cell_type": "markdown",
   "metadata": {
    "id": "vbfef8duYVp8"
   },
   "source": [
    "# Finite element variational formulation\n",
    "\n",
    "FEniCS is based on the finite element method, which is a general and efficient mathematical machinery for the numerical solution of PDEs. The starting point for the finite element methods is a PDE expressed in variational form. Readers who are not familiar with variational problems will get a very brief introduction to the topic in this tutorial, but reading a proper book on the finite element method in addition is encouraged. Experience shows that you can work with FEniCS as a tool to solve PDEs even without thorough knowledge of the finite element method, as long as you get somebody to help you with formulating the PDE as a variational problem.\n",
    "\n",
    "The basic recipe for turning a PDE into a variational problem is to multiply the PDE by a function `v`, integrate the resulting equation over the domain $\\Omega$, and perform integration by parts of terms with second-order derivatives. The function `v` which multiplies the PDE is called a test function. The unknown function `u` to be approximated is referred to as a trial function. The terms trial and test functions are used in FEniCS programs too. The trial and test functions belong to certain so-called function spaces that specify the properties of the functions.\n",
    "\n",
    "In the present case, we first multiply the Poisson equation by the test function `v` and integrate over $\\Omega$:\n",
    "\n",
    "$$\n",
    "-\\int_{\\Omega} (\\nabla^2 u) v \\, dx = \\int_{\\Omega} fv \\, dx. \\quad (4)\n",
    "$$\n",
    "\n",
    "We here let  `dx` denote the differential element for integration over the domain $\\Omega$. We will later let `ds` denote the differential element for integration over the boundary of $\\Omega$.\n",
    "\n",
    "A common rule when we derive variational formulations is that we try to keep the order of the derivatives of `u` and `v` as small as possible. Here, we have a second-order spatial derivative of `u`, which can be transformed to a first-derivative of `u` and `v` by applying the technique of integration by parts. The formula reads\n",
    "\n",
    "$$\n",
    "-\\int_{\\Omega} (\\nabla^2 u) v \\, dx = \\int_{\\Omega} \\nabla u \\cdot \\nabla v \\, dx - \\int_{\\partial\\Omega} \\frac{\\partial u}{\\partial n} v \\, ds, \\quad (5)\n",
    "$$\n",
    "\n",
    "where \\( $\\frac{\\partial u}{\\partial n} = \\nabla u \\cdot n$ \\) is the derivative of `u` in the outward normal direction `n` on the boundary.\n",
    "\n",
    "Another feature of variational formulations is that the test function `v` is required to vanish on the parts of the boundary where the solution `u`is known. In the present problem, this means that `v=0` on the whole boundary $\\partial\\Omega$. The second term on the right-hand side of (5) therefore vanishes. From (4) and (5) it follows that\n",
    "\n",
    "$$\n",
    "\\int_{\\Omega} \\nabla u \\cdot \\nabla v \\, dx = \\int_{\\Omega} fv \\, dx. \\quad (6)\n",
    "$$\n",
    "\n",
    "If we require that this equation holds for all test functions `v` in some suitable space $\\hat{V}$, the so-called test space, we obtain a well-defined mathematical problem that uniquely determines the solution `u` which lies in some (possibly different) function space `V`, the so-called trial space. We refer to (6) as the weak form or variational form of the original boundary-value problem (1)–(2).\n",
    "\n",
    "The proper statement of our variational problem now goes as follows: find $u \\in V$ such that\n",
    "\n",
    "$$\n",
    "\\int_{\\Omega} \\nabla u \\cdot \\nabla v \\, dx = \\int_{\\Omega} fv \\, dx \\quad \\forall v \\in \\hat{V}. \\quad (7)\n",
    "$$\n",
    "\n",
    "The trial and test spaces \\( V \\) and \\( $\\hat{V}$ \\) are\n",
    "$$ V = \\{ v \\in H^1(\\Omega) : v = u_D \\text{ on } \\partial\\Omega \\} , \\hat{V} = \\{ v \\in H^1(\\Omega) : v = 0 \\text{ on } \\partial\\Omega \\}.\n",
    "$$\n",
    "\n",
    "In short, $H^1(\\Omega)$ is the mathematically well-known Sobolev space containing functions `v` such that `v^2` and $|\\nabla v|^2$ have finite integrals over $\\Omega$ (essentially meaning that the functions are continuous). The solution of the underlying PDE must lie in a function space where the derivatives are also continuous, but the Sobolev space $H^1(\\Omega)$ allows functions with discontinuous derivatives. This weaker continuity requirement of `u` in the variational statement (7), as a result of the integration by parts, has great practical consequences when it comes to constructing finite element function spaces. In particular, it allows the use of piecewise polynomial function spaces; i.e., function spaces constructed by stitching together polynomial functions on simple domains such as intervals, triangles, or tetrahedrons.\n",
    "\n",
    "The variational problem (7) is a continuous problem: it defines the solution `u` in the infinite-dimensional function space `V`. The finite element method for the Poisson equation finds an approximate solution of the variational problem (7) by replacing the infinite-dimensional function spaces $V$ and $\\hat{V}$ by discrete (finite-dimensional) trial and test spaces $ V_h \\subset V $ and $ \\hat{V}_h \\subset \\hat{V} $. The discrete variational problem reads: find $$ u_h \\in V_h \\subset V  \\ s.t. \\ \\int_{\\Omega} \\nabla u_h \\cdot \\nabla v \\, dx = \\int_{\\Omega} f v \\, dx \\quad \\forall v \\in \\hat{V}_h \\subset \\hat{V}. (8)$$\n",
    "\n",
    "This variational problem, together with a suitable definition of the function spaces $V_h$ and $\\hat{V}_h$, uniquely define our approximate numerical solution of Poisson’s equation (1). Note that the boundary conditions are encoded as part of the trial and test spaces. The mathematical framework may seem complicated at first glance, but the good news is that the finite element variational problem (8) looks the same as the continuous variational problem (7), and FEniCS can automatically solve variational problems like (8)!\n",
    "\n"
   ]
  },
  {
   "cell_type": "markdown",
   "metadata": {
    "id": "4htss96BcOC_"
   },
   "source": [
    "# Abstract finite element variational formulation\n",
    "\n",
    "It turns out to be convenient to introduce the following canonical notation for variational problems:\n",
    "\n",
    "**Find** $u \\in V$ **such that**\n",
    "$$\n",
    "a(u, v) = L(v) \\quad \\forall v \\in V^*. \\tag{9}\n",
    "$$\n",
    "\n",
    "For the Poisson equation, we have:\n",
    "$$\n",
    "a(u, v) = \\int_{\\Omega} \\nabla u \\cdot \\nabla v \\, dx, \\tag{10}\n",
    "$$\n",
    "$$\n",
    "L(v) = \\int_{\\Omega} f v \\, dx. \\tag{11}\n",
    "$$\n",
    "\n",
    "From the mathematics literature, $a(u, v)$ is known as a bilinear form and $L(v)$ as a linear form. We shall, in every linear problem we solve, identify the terms with the unknown $u$ and collect them in $a(u, v)$, and similarly collect all terms with only known functions in $L(v)$. The formulas for $a$ and $L$ can then be expressed directly in our FEniCS programs.\n",
    "\n",
    "To solve a linear PDE in FEniCS, such as the Poisson equation, a user thus needs to perform only two steps:\n",
    "\n",
    "1. **Choose the finite element spaces** $V$ and $V^*$ by specifying the domain (the mesh) and the type of function space (polynomial degree and type).\n",
    "2. **Express the PDE as a (discrete) variational problem:** Find $u \\in V$ such that $a(u, v) = L(v)$ for all $v \\in V^*$.\n",
    "\n",
    "## Choosing a test problem\n",
    "\n",
    "The Poisson problem (1)–(2) has so far featured a general domain $\\Omega$ and general functions $u_D$ for the boundary conditions and $f$ for the right-hand side. For our first implementation, we will need to make specific choices for $\\Omega$, $u_D$, and $f$. It will be wise to construct a problem with a known analytical solution so that we can easily check that the computed solution is correct. Solutions that are lower-order polynomials are primary candidates. Standard finite element function spaces of degree $r$ will exactly reproduce polynomials of degree $r$. And piecewise linear elements (r=1) are able to exactly reproduce a quadratic polynomial on a uniformly partitioned mesh. This important result can be used to verify our implementation. We just manufacture some quadratic function in 2D as the exact solution, say:\n",
    "$$\n",
    "u_e(x, y) = 1 + x^2 + 2y^2. \\tag{12}\n",
    "$$\n",
    "\n",
    "By inserting (12) into the Poisson equation (1), we find that $u_e(x, y)$ is a solution if $f(x, y) = -6$, $u_D(x, y) = u_e(x, y) = 1 + x^2 + 2y^2$, regardless of the shape of the domain as long as $u_e$ is prescribed along the boundary. We choose here, for simplicity, the domain to be the unit square, $\\Omega = [0, 1] \\times [0, 1]$.\n",
    "\n",
    "This simple but very powerful method for constructing test problems is called the method of manufactured solutions: pick a simple expression for the exact solution, plug it into the equation to obtain the right-hand side (source term $f$), then solve the equation with this right-hand side and using the exact solution as a boundary condition, and try to reproduce the exact solution.\n"
   ]
  },
  {
   "cell_type": "code",
   "execution_count": 15,
   "metadata": {},
   "outputs": [
    {
     "name": "stdout",
     "output_type": "stream",
     "text": [
      "\u001b[31mERROR: Ignored the following yanked versions: 3.0.6, 3.5.0, 3.7.0, 3.17.0, 4.0.0, 4.0.1, 4.0.2, 4.0.3, 4.0.4, 4.0.5, 4.0.7, 4.0.8, 4.0.9, 4.1.2, 4.1.6, 4.2.6, 4.2.7, 4.3.13, 4.3.16\u001b[0m\u001b[31m\n",
      "\u001b[0m\u001b[31mERROR: Could not find a version that satisfies the requirement conda (from versions: none)\u001b[0m\u001b[31m\n",
      "\u001b[0m\u001b[31mERROR: No matching distribution found for conda\u001b[0m\u001b[31m\n",
      "\u001b[0mNote: you may need to restart the kernel to use updated packages.\n"
     ]
    }
   ],
   "source": []
  },
  {
   "cell_type": "code",
   "execution_count": 13,
   "metadata": {
    "id": "RO9BBdCeD5sX"
   },
   "outputs": [
    {
     "name": "stdout",
     "output_type": "stream",
     "text": [
      "zsh:1: command not found: wget\n"
     ]
    },
    {
     "ename": "ModuleNotFoundError",
     "evalue": "No module named 'dolfin'",
     "output_type": "error",
     "traceback": [
      "\u001b[0;31m---------------------------------------------------------------------------\u001b[0m",
      "\u001b[0;31mModuleNotFoundError\u001b[0m                       Traceback (most recent call last)",
      "Cell \u001b[0;32mIn[13], line 2\u001b[0m\n\u001b[1;32m      1\u001b[0m \u001b[38;5;28;01mtry\u001b[39;00m:\n\u001b[0;32m----> 2\u001b[0m     \u001b[38;5;28;01mimport\u001b[39;00m \u001b[38;5;21;01mdolfin\u001b[39;00m\n\u001b[1;32m      3\u001b[0m \u001b[38;5;28;01mexcept\u001b[39;00m \u001b[38;5;167;01mImportError\u001b[39;00m:\n",
      "\u001b[0;31mModuleNotFoundError\u001b[0m: No module named 'dolfin'",
      "\nDuring handling of the above exception, another exception occurred:\n",
      "\u001b[0;31mModuleNotFoundError\u001b[0m                       Traceback (most recent call last)",
      "Cell \u001b[0;32mIn[13], line 5\u001b[0m\n\u001b[1;32m      3\u001b[0m \u001b[38;5;28;01mexcept\u001b[39;00m \u001b[38;5;167;01mImportError\u001b[39;00m:\n\u001b[1;32m      4\u001b[0m     get_ipython()\u001b[38;5;241m.\u001b[39msystem(\u001b[38;5;124m'\u001b[39m\u001b[38;5;124mwget \u001b[39m\u001b[38;5;124m\"\u001b[39m\u001b[38;5;124mhttps://fem-on-colab.github.io/releases/fenics-install-real.sh\u001b[39m\u001b[38;5;124m\"\u001b[39m\u001b[38;5;124m -O \u001b[39m\u001b[38;5;124m\"\u001b[39m\u001b[38;5;124m/tmp/fenics-install.sh\u001b[39m\u001b[38;5;124m\"\u001b[39m\u001b[38;5;124m && bash \u001b[39m\u001b[38;5;124m\"\u001b[39m\u001b[38;5;124m/tmp/fenics-install.sh\u001b[39m\u001b[38;5;124m\"\u001b[39m\u001b[38;5;124m'\u001b[39m)\n\u001b[0;32m----> 5\u001b[0m     \u001b[38;5;28;01mimport\u001b[39;00m \u001b[38;5;21;01mdolfin\u001b[39;00m\n",
      "\u001b[0;31mModuleNotFoundError\u001b[0m: No module named 'dolfin'"
     ]
    }
   ],
   "source": [
    "try:\n",
    "    import dolfin\n",
    "except ImportError:\n",
    "    !wget \"https://fem-on-colab.github.io/releases/fenics-install-real.sh\" -O \"/tmp/fenics-install.sh\" && bash \"/tmp/fenics-install.sh\"\n",
    "    import dolfin"
   ]
  },
  {
   "cell_type": "code",
   "execution_count": 3,
   "metadata": {
    "id": "3GpMmphQSAR_"
   },
   "outputs": [
    {
     "data": {
      "text/plain": [
       "'\\nEniCS tutorial demo program: Poisson equation with Dirichlet conditions.\\nTest problem is chosen to give an exact solution at all nodes of the mesh.\\n  -Laplace(u) = f    in the unit square\\n            u = u_D  on the boundary\\n  u_D = 1 + x^2 + 2y^2\\n    f = -6\\n'"
      ]
     },
     "execution_count": 3,
     "metadata": {},
     "output_type": "execute_result"
    }
   ],
   "source": [
    "\"\"\"\n",
    "EniCS tutorial demo program: Poisson equation with Dirichlet conditions.\n",
    "Test problem is chosen to give an exact solution at all nodes of the mesh.\n",
    "  -Laplace(u) = f    in the unit square\n",
    "            u = u_D  on the boundary\n",
    "  u_D = 1 + x^2 + 2y^2\n",
    "    f = -6\n",
    "\"\"\""
   ]
  },
  {
   "cell_type": "code",
   "execution_count": 4,
   "metadata": {
    "id": "0ak1g_H02Rcx"
   },
   "outputs": [
    {
     "ename": "ModuleNotFoundError",
     "evalue": "No module named 'fenics'",
     "output_type": "error",
     "traceback": [
      "\u001b[0;31m---------------------------------------------------------------------------\u001b[0m",
      "\u001b[0;31mModuleNotFoundError\u001b[0m                       Traceback (most recent call last)",
      "Cell \u001b[0;32mIn[4], line 3\u001b[0m\n\u001b[1;32m      1\u001b[0m \u001b[38;5;28;01mfrom\u001b[39;00m \u001b[38;5;21;01m__future__\u001b[39;00m \u001b[38;5;28;01mimport\u001b[39;00m print_function\n\u001b[1;32m      2\u001b[0m \u001b[38;5;28;01mimport\u001b[39;00m \u001b[38;5;21;01mmatplotlib\u001b[39;00m\u001b[38;5;21;01m.\u001b[39;00m\u001b[38;5;21;01mpyplot\u001b[39;00m \u001b[38;5;28;01mas\u001b[39;00m \u001b[38;5;21;01mplt\u001b[39;00m\n\u001b[0;32m----> 3\u001b[0m \u001b[38;5;28;01mfrom\u001b[39;00m \u001b[38;5;21;01mfenics\u001b[39;00m \u001b[38;5;28;01mimport\u001b[39;00m \u001b[38;5;241m*\u001b[39m\n",
      "\u001b[0;31mModuleNotFoundError\u001b[0m: No module named 'fenics'"
     ]
    }
   ],
   "source": [
    "from __future__ import print_function\n",
    "import matplotlib.pyplot as plt\n",
    "from fenics import *"
   ]
  },
  {
   "cell_type": "markdown",
   "metadata": {
    "id": "L4-uJnkSdJXg"
   },
   "source": [
    "# Finite Element Mesh Definition\n",
    "We define a uniform finite element mesh over the unit square \\([0, 1] \\times [0, 1]\\). The mesh consists of cells, which in 2D are triangles with straight sides. The parameters \\(8\\) and \\(8\\) specify that the square should be divided into \\(8 \\times 8\\) rectangles, each divided into a pair of triangles. The total number of triangles (cells) thus becomes 128, and the total number of vertices in the mesh is \\(9 \\times 9 = 81\\).\n"
   ]
  },
  {
   "cell_type": "code",
   "execution_count": 6,
   "metadata": {
    "id": "rhOV7SK020vn"
   },
   "outputs": [
    {
     "ename": "NameError",
     "evalue": "name 'UnitSquareMesh' is not defined",
     "output_type": "error",
     "traceback": [
      "\u001b[0;31m---------------------------------------------------------------------------\u001b[0m",
      "\u001b[0;31mNameError\u001b[0m                                 Traceback (most recent call last)",
      "Cell \u001b[0;32mIn[6], line 2\u001b[0m\n\u001b[1;32m      1\u001b[0m \u001b[38;5;66;03m# Create mesh and define function space\u001b[39;00m\n\u001b[0;32m----> 2\u001b[0m mesh \u001b[38;5;241m=\u001b[39m \u001b[43mUnitSquareMesh\u001b[49m(\u001b[38;5;241m8\u001b[39m, \u001b[38;5;241m8\u001b[39m)\n",
      "\u001b[0;31mNameError\u001b[0m: name 'UnitSquareMesh' is not defined"
     ]
    }
   ],
   "source": [
    "# Create mesh and define function space\n",
    "mesh = UnitSquareMesh(8, 8)"
   ]
  },
  {
   "cell_type": "markdown",
   "metadata": {
    "id": "UphkBngLdkbR"
   },
   "source": [
    "# Defining the Finite Element Function Space\n",
    "\n",
    "Once the mesh has been created, we define a finite element function space `V`. The function space is created using the `FunctionSpace` method. The second argument `'P'` specifies the type of element, implying the standard Lagrange family of elements. The notation `'P'` stands for the Lagrange element, and `'Lagrange'` can also be used to specify this type of element. FEniCS supports various simplex element families as per the notation defined in the Periodic Table of Finite Elements.\n",
    "\n",
    "The third argument `1` in the `FunctionSpace` method specifies the degree of the finite element. Here, we use the standard P1 linear Lagrange element, which is a triangle with nodes at the three vertices, often referred to as the “linear triangle”. The computed solution `u` will be continuous across elements and linearly vary in `x` and `y` inside each element. Higher-degree polynomial approximations over each cell are achieved by increasing this third parameter, generating function spaces of type P2, P3, etc. Changing the second parameter to `'DP'` creates a function space for discontinuous Galerkin methods.\n"
   ]
  },
  {
   "cell_type": "code",
   "execution_count": null,
   "metadata": {
    "id": "XXGHdpiEdP01"
   },
   "outputs": [],
   "source": [
    "V = FunctionSpace(mesh, 'P', 1)"
   ]
  },
  {
   "cell_type": "markdown",
   "metadata": {
    "id": "PenLDECHdxL9"
   },
   "source": [
    "# Defining the Boundary Conditions\n",
    "\n",
    "The boundary conditions are specified as u = uD on the boundary ∂Ω. In FEniCS, this is achieved using the `DirichletBC` class. The boundary condition is defined by creating an instance of `DirichletBC`, passing the function space `V`, an expression `u_D` that defines the solution values on the boundary, and a function or object `boundary` that defines which points belong to the boundary.\n",
    "\n",
    "Dirichlet conditions, such as u = uD, are also known as essential boundary conditions in the context of finite element methods for the Poisson problem. They must be imposed explicitly as part of the trial space. The `Expression` class in FEniCS is used to represent a mathematical function. The expression is written in C++ syntax and is compiled into an efficient C++ function.\n"
   ]
  },
  {
   "cell_type": "code",
   "execution_count": null,
   "metadata": {
    "id": "pLg7QUTISJno"
   },
   "outputs": [],
   "source": [
    "# Define boundary condition\n",
    "u_D = Expression('1 + x[0]*x[0] + 2*x[1]*x[1]', degree = 2)\n",
    "\n",
    "def boundary(x, on_boundary):\n",
    "  return on_boundary\n",
    "\n",
    "bc = DirichletBC(V, u_D, boundary)\n",
    "\n"
   ]
  },
  {
   "cell_type": "markdown",
   "metadata": {
    "id": "Kr2pp9sZeoEH"
   },
   "source": [
    "# Defining the Trial and Test Functions\n",
    "\n",
    "In the context of finite element methods, we typically distinguish between the trial and test spaces, often denoted as `V` and `V^`. In this problem, the only difference between these spaces is in the boundary conditions. However, in FEniCS, boundary conditions are not specified as part of the function space. Therefore, it is sufficient to use one common space `V` for both the trial and test functions.\n",
    "\n",
    "The trial function `u` and test function `v` are defined using `TrialFunction` and `TestFunction` methods, respectively."
   ]
  },
  {
   "cell_type": "code",
   "execution_count": null,
   "metadata": {
    "id": "8WURC3E1SM02"
   },
   "outputs": [],
   "source": [
    "# Define variational problem\n",
    "u = TrialFunction(V)\n",
    "v = TestFunction(V)"
   ]
  },
  {
   "cell_type": "markdown",
   "metadata": {
    "id": "t8XpNWnRfp1V"
   },
   "source": [
    "### Defining the Source Term and the Variational Problem\n",
    "\n",
    "Before we can define the bilinear and linear forms \\( a(u, v) \\) and \\( L(v) \\), we need to specify the source term \\( f \\). This can be done using:\n",
    "\n",
    "```python\n",
    "f = Expression('-6', degree=0)\n",
    "```\n",
    "\n",
    "If \\( f \\) is constant over the domain, it can be more efficiently represented as a `Constant`:\n",
    "\n",
    "```python\n",
    "f = Constant(-6)\n",
    "```"
   ]
  },
  {
   "cell_type": "code",
   "execution_count": null,
   "metadata": {
    "id": "O6_LLLZufnl_"
   },
   "outputs": [],
   "source": [
    "f = Constant(-6.0)\n"
   ]
  },
  {
   "cell_type": "markdown",
   "metadata": {
    "id": "_0U2FtX4et3s"
   },
   "source": [
    "\n",
    "\n",
    "#### Defining the Variational Problem\n",
    "\n",
    "With all the ingredients in place, we can now define the variational problem:\n",
    "\n",
    "```python\n",
    "a = dot(grad(u), grad(v)) * dx\n",
    "L = f * v * dx\n",
    "```\n",
    "\n",
    "These lines of code directly translate the mathematical formulas \\( \\nabla u \\cdot \\nabla v \\, dx \\) and \\( f v \\, dx \\) into the FEniCS framework. The language used for expressing these weak forms is the Unified Form Language (UFL), which is an integral part of FEniCS.\n",
    "\n",
    "#### Expressing Inner Products\n",
    "\n",
    "In FEniCS, the inner product $\\int_{\\Omega} \\nabla u \\cdot \\nabla v \\, dx$ can be expressed in various ways. We have used the notation `dot(grad(u), grad(v)) * dx`. The `dot` product computes the sum over the indices of tensors. For vectors, `dot` and `inner` are equivalent.\n"
   ]
  },
  {
   "cell_type": "code",
   "execution_count": null,
   "metadata": {
    "id": "MvOimtocetfZ"
   },
   "outputs": [],
   "source": [
    "a = dot(grad(u), grad(v))*dx\n",
    "L = f*v*dx"
   ]
  },
  {
   "cell_type": "markdown",
   "metadata": {
    "id": "OqFbnZHQf5qD"
   },
   "source": [
    "\n",
    "#### Forming and Solving the Linear System\n",
    "\n",
    "After defining the variational problem and boundary conditions, we can ask FEniCS to compute the solution:\n",
    "\n",
    "```python\n",
    "u = Function(V)\n",
    "solve(a == L, u, bc)\n",
    "```\n",
    "\n",
    "Here, `u` is first defined as a `TrialFunction` and then redefined as a `Function` object representing the solution. This is a common practice in FEniCS applications for linear problems. The redefinition is natural from a mathematical standpoint, as both objects represent the same entity in different contexts.\n",
    "``"
   ]
  },
  {
   "cell_type": "code",
   "execution_count": null,
   "metadata": {
    "id": "SocXDeKoSOxZ"
   },
   "outputs": [],
   "source": [
    "# Compute solution\n",
    "u = Function(V)\n",
    "solve(a == L, u, bc)\n"
   ]
  },
  {
   "cell_type": "code",
   "execution_count": null,
   "metadata": {
    "id": "_uz6svPgSTHK"
   },
   "outputs": [],
   "source": [
    "# Plot solution and mesh\n",
    "plot(u, title = 'Finite element solution')\n",
    "plt.show()\n",
    "plot(mesh, title = 'Finite element mesh')\n",
    "plt.show()"
   ]
  },
  {
   "cell_type": "code",
   "execution_count": null,
   "metadata": {
    "id": "sxTwBf_ySZgC"
   },
   "outputs": [],
   "source": [
    "# Save solution to file in VTK format\n",
    "vtkfile = File('poisson/solution.pvd')\n",
    "vtkfile << u\n",
    "\n"
   ]
  },
  {
   "cell_type": "code",
   "execution_count": null,
   "metadata": {
    "id": "bokJh9-TSqDf"
   },
   "outputs": [],
   "source": [
    "# Compute error in L2 norm\n",
    "error_L2 = errornorm(u_D, u, 'L2')\n",
    "\n",
    "# Compute maximum error at vertices\n",
    "vertex_values_u_D = u_D.compute_vertex_values(mesh)\n",
    "vertex_values_u = u.compute_vertex_values(mesh)\n",
    "import numpy as np\n",
    "error_max = np.max(np.abs(vertex_values_u_D-vertex_values_u))\n",
    "\n",
    "# Print errors\n",
    "print('error_L2 =', error_L2)\n",
    "print('error_max =', error_max)\n",
    "\n",
    "\n",
    "# Hold plot\n",
    "plt.show()"
   ]
  },
  {
   "cell_type": "markdown",
   "metadata": {
    "id": "wZTMcIlB4ByL"
   },
   "source": [
    "**Question:** Do you know how to improve the accuracy (Reduce the L2 error and max_error in the previous cell)? Please modify the above code and show the numerical results here."
   ]
  },
  {
   "cell_type": "markdown",
   "metadata": {
    "id": "3RKvIhd-BY-k"
   },
   "source": [
    "Your results:"
   ]
  },
  {
   "cell_type": "markdown",
   "metadata": {
    "id": "ilrFLoIKHXaB"
   },
   "source": [
    "# Problem 2. Complete the implementation of the following FEM code defined on a special domain. (60pts)"
   ]
  },
  {
   "cell_type": "code",
   "execution_count": null,
   "metadata": {
    "id": "fzx8Po1wFksE"
   },
   "outputs": [],
   "source": [
    "%matplotlib inline\n",
    "\n",
    "import numpy as np\n",
    "from dolfin import *\n",
    "from mshr import *\n",
    "\n",
    "import matplotlib.pyplot as plt\n",
    "\n",
    "# Do not reorder degrees of freedom (dofs)\n",
    "parameters['reorder_dofs_serial'] = False\n",
    "# Extrapolate values to produce smoother representations\n",
    "parameters['allow_extrapolation'] = True"
   ]
  },
  {
   "cell_type": "markdown",
   "metadata": {
    "id": "IA85nyfpHTy6"
   },
   "source": [
    "**Step 1: Define The domain**\n",
    "\n",
    "In this problem, we want the domain to be a disk with a square hole cut into it. This can be done using Circle and subtracting a Rectangle from it."
   ]
  },
  {
   "cell_type": "code",
   "execution_count": null,
   "metadata": {
    "id": "eSQNA7u1GGuG"
   },
   "outputs": [],
   "source": [
    "domain = Circle(Point(.0,.0), 1) - Rectangle(Point(-0.5,-0.5), Point(0.5,0.5))\n",
    "domain_mesh = generate_mesh(domain, 20)\n",
    "plot(domain_mesh)"
   ]
  },
  {
   "cell_type": "markdown",
   "metadata": {
    "id": "yuXH7KUmHhKJ"
   },
   "source": [
    "**Step 2: Define The Function Space**\n",
    "\n",
    "The important decision in this step is the kind of basis functions to use. In this example, it is sufficient to use Lagrange polynomials of degree 1, which is to say piecewise linear functions.\n",
    "We also define placeholders for the trial and test functions that we will use to declare the variational equation."
   ]
  },
  {
   "cell_type": "markdown",
   "metadata": {
    "id": "F22qdQYrBvXl"
   },
   "source": [
    "**Question:** Replace ``xxxxxxxxx\" with something"
   ]
  },
  {
   "cell_type": "code",
   "execution_count": null,
   "metadata": {
    "id": "bhRpl5CkGLag"
   },
   "outputs": [],
   "source": [
    "# The basis functions are Lagrange polynomials of order 1 (i.e. linear functions)\n",
    "function_space = FunctionSpace(xxxxxxxxx)\n",
    "u = TrialFunction(xxxxxxxxx)\n",
    "v = TestFunction(xxxxxxxxx)"
   ]
  },
  {
   "cell_type": "markdown",
   "metadata": {
    "id": "pEh_R7fCH50Y"
   },
   "source": [
    "**Step 3: Define The Boundary Conditions**\n",
    "\n",
    "The boundary for this problem consists of the outer circle surrounding the disk and the four sides of the inner square. FEnicCS provides the ability to specify a different boundary condition for each section of the boundary.\n",
    "We accomplish this by defining a function for each section. The function takes a point and returns true if this point is on the portion of interest (and false otherwise). The second parameter, on_boundary is a flag to indicate whether this point belongs to the overall boundary."
   ]
  },
  {
   "cell_type": "code",
   "execution_count": null,
   "metadata": {
    "id": "PMWmnsnlGRCJ"
   },
   "outputs": [],
   "source": [
    "def outer_boundary(x, on_boundary):\n",
    "    x,y = x[0], x[1]\n",
    "    return on_boundary and near(np.sqrt(x**2 + y**2), 1, 5e-2)\n",
    "def top_boundary(x, on_boundary):\n",
    "    return on_boundary and near(x[1], 0.5)\n",
    "def bottom_boundary(x, on_boundary):\n",
    "    return on_boundary and near(x[1], -0.5)\n",
    "def left_boundary(x, on_boundary):\n",
    "    return on_boundary and near(x[0], -0.5)\n",
    "def right_boundary(x, on_boundary):\n",
    "    return on_boundary and near(x[0], 0.5)"
   ]
  },
  {
   "cell_type": "markdown",
   "metadata": {
    "id": "Fc9dlPZbIEvb"
   },
   "source": [
    "Having broken up the boundary into sections, we can define a value for each piece as follows:"
   ]
  },
  {
   "cell_type": "code",
   "execution_count": null,
   "metadata": {
    "id": "ikEJcIMgGWM_"
   },
   "outputs": [],
   "source": [
    "outer_bc = DirichletBC(function_space, Constant(0), outer_boundary)\n",
    "top_bc = DirichletBC(function_space, Constant(1), top_boundary)\n",
    "bottom_bc = DirichletBC(function_space, Constant(-1), bottom_boundary)\n",
    "left_bc = DirichletBC(function_space, Constant(2), left_boundary)\n",
    "right_bc = DirichletBC(function_space, Constant(-1), right_boundary)\n",
    "boundaries = [outer_bc, top_bc, bottom_bc, left_bc, right_bc]"
   ]
  },
  {
   "cell_type": "markdown",
   "metadata": {
    "id": "5derNOw2IJk5"
   },
   "source": [
    "In the last line, we combine all the boundary conditions into a single array."
   ]
  },
  {
   "cell_type": "markdown",
   "metadata": {
    "id": "CZFcGZcjIMMk"
   },
   "source": [
    "**Step 4: Define The Equation**\n",
    "\n",
    "In this step, we simply encode the variational form of the partial differential equation:\n",
    "\n",
    "$$\n",
    "-\\nabla^2 u(x) = f(x), \\quad x \\text{ in } \\Omega, \\quad (1)\n",
    "$$\n",
    "\n",
    "$$\n",
    "u(x) = u_D(x), \\quad x \\text{ on } \\partial\\Omega. \\quad (2)\n",
    "$$\n",
    "\n",
    "into FEniCS language. Here $u_D(x) = x^2/2+y^2$."
   ]
  },
  {
   "cell_type": "markdown",
   "metadata": {
    "id": "L3I29c8PCT2D"
   },
   "source": [
    "**Question:** Replace xxxxxxx with your code"
   ]
  },
  {
   "cell_type": "code",
   "execution_count": null,
   "metadata": {
    "id": "amRVIZH9GeZ7"
   },
   "outputs": [],
   "source": [
    "left_integrand = xxxxxxxxxx\n",
    "f =  xxxxxxxxxxxxxxxxx\n",
    "right_integrand = xxxx"
   ]
  },
  {
   "cell_type": "markdown",
   "metadata": {
    "id": "XdvI_SJDI-8G"
   },
   "source": [
    "Note that if you want to specify a mathematical expression instead of a constant, like I did for the function f, the expression must be in C++ and not Python syntax."
   ]
  },
  {
   "cell_type": "markdown",
   "metadata": {
    "id": "Rde8Q1MfI7kl"
   },
   "source": [
    "**Step 5: Assemble and Solve the Problem**\n",
    "\n",
    "This part is pretty straightforward. The following code shows how to convert the problem into a linear algebra problem by forming the matrix A and vector b."
   ]
  },
  {
   "cell_type": "code",
   "execution_count": null,
   "metadata": {
    "id": "ycb6Z-ZyGZiD"
   },
   "outputs": [],
   "source": [
    "#set up linear algebra problem# Assemble the matrix A\n",
    "A = assemble(left_integrand)\n",
    "# Assemble the vector b\n",
    "b = assemble(right_integrand)\n",
    "# Apply all boundary conditions\n",
    "[bc.apply(A,b) for bc in boundaries]\n",
    "# create a placeholder for solution\n",
    "solution = Function(function_space)\n",
    "# compute the solution\n",
    "solve(A, solution.vector(), b)"
   ]
  },
  {
   "cell_type": "markdown",
   "metadata": {
    "id": "hh-6op_OJFWI"
   },
   "source": [
    "The same goal can also be accomplished with a more compact expression if you do not want to form A and b explicitly:"
   ]
  },
  {
   "cell_type": "code",
   "execution_count": null,
   "metadata": {
    "id": "bRgSSPRwJLQa"
   },
   "outputs": [],
   "source": [
    "solution = Function(function_space)\n",
    "solve(left_integrand == right_integrand, solution, boundaries)"
   ]
  },
  {
   "cell_type": "markdown",
   "metadata": {
    "id": "BIT6emjSJN45"
   },
   "source": [
    "**Step 6: Visualize the Solution**\n",
    "\n",
    "The FEniCS solution object provides a default visualization as a heat map which can be viewed simply by using plot(). The default does not offer a guide of what the colors mean, so we need to explicitly add a colorbar."
   ]
  },
  {
   "cell_type": "code",
   "execution_count": null,
   "metadata": {
    "colab": {
     "base_uri": "https://localhost:8080/",
     "height": 456
    },
    "id": "PhUgpNM6GlCS",
    "outputId": "20db6567-14ae-4f60-ed07-52027c9aea73"
   },
   "outputs": [
    {
     "data": {
      "image/png": "[encoded data removed]",
      "text/plain": [
       "<Figure size 640x480 with 2 Axes>"
      ]
     },
     "metadata": {},
     "output_type": "display_data"
    }
   ],
   "source": [
    "# Default visualization with the addition of a colorbar\n",
    "p = plot(solution)\n",
    "plt.title(r'$-∇ ^2 u = x^2/2+y^2$ on the Unit Disk')\n",
    "plt.colorbar(p)\n",
    "plt.show()"
   ]
  },
  {
   "cell_type": "markdown",
   "metadata": {
    "id": "aNhypIavJSXH"
   },
   "source": [
    "To obtain more customizable visualizations, we need to do a bit of work to convert the solution to a format that matplotlib can understand, as illustrated below:"
   ]
  },
  {
   "cell_type": "code",
   "execution_count": null,
   "metadata": {
    "id": "JTJsftuZGosa"
   },
   "outputs": [],
   "source": [
    "import matplotlib as mpl# This import registers the 3D projection, but is otherwise unused.\n",
    "from mpl_toolkits.mplot3d import Axes3D\n",
    "def mesh_triangulation(mesh):\n",
    "    \"\"\"\n",
    "    Convert a FEniCS mesh into a matplotlib Triangulation\n",
    "    \"\"\"\n",
    "    coordinates = mesh.coordinates()\n",
    "    triangles = mesh.cells()\n",
    "    return mpl.tri.Triangulation(coordinates[:, 0], coordinates[:, 1], triangles)\n",
    "\n",
    "triangulation = mesh_triangulation(domain_mesh)\n",
    "fig, ax = plt.subplots(1, 1, figsize=(16, 8))\n",
    "ax = fig.add_subplot(1, 1, 1, projection='3d')\n",
    "ax.set_xlabel(r\"$x$\", fontsize=18)\n",
    "ax.set_ylabel(r\"$y$\", fontsize=18)\n",
    "c = ax.plot_trisurf(triangulation, np.array(solution.vector()),cmap=mpl.cm.get_cmap(\"Reds\"))\n",
    "cb = plt.colorbar(c, ax=ax)\n",
    "cb.set_label(r\"$u(x, y)$\", fontsize=18)"
   ]
  }
 ],
 "metadata": {
  "colab": {
   "provenance": []
  },
  "kernelspec": {
   "display_name": "Python 3 (ipykernel)",
   "language": "python",
   "name": "python3"
  },
  "language_info": {
   "codemirror_mode": {
    "name": "ipython",
    "version": 3
   },
   "file_extension": ".py",
   "mimetype": "text/x-python",
   "name": "python",
   "nbconvert_exporter": "python",
   "pygments_lexer": "ipython3",
   "version": "3.12.1"
  }
 },
 "nbformat": 4,
 "nbformat_minor": 4
}
