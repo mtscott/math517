{
 "cells": [
  {
   "cell_type": "code",
   "execution_count": 1,
   "metadata": {
    "id": "0ww6QI9cUVQG"
   },
   "outputs": [],
   "source": [
    "import scipy as sp\n",
    "import numpy as np\n",
    "import scipy.sparse as sparse\n",
    "import scipy.sparse.linalg as sla\n",
    "import matplotlib.pyplot as plt\n",
    "import pyamg"
   ]
  },
  {
   "cell_type": "markdown",
   "metadata": {
    "id": "RGPJblQFpH4I"
   },
   "source": [
    "# Problem 1. Find an efficient smoother for the following structured problem"
   ]
  },
  {
   "cell_type": "code",
   "execution_count": 2,
   "metadata": {
    "id": "px1tM1tqpNXr"
   },
   "outputs": [],
   "source": [
    "def stencil_grid(S, grid):\n",
    "    N_v = np.prod(grid)  # number of vertices in the mesh\n",
    "    N_s = (S != 0).sum() # number of nonzero stencil entries\n",
    "\n",
    "    # diagonal offsets\n",
    "    diags = np.zeros(N_s, dtype=int)\n",
    "\n",
    "    # compute index offset of each dof within the stencil\n",
    "    strides = np.cumprod([1] + list(reversed(grid)))[:-1]\n",
    "    indices = tuple(i.copy() for i in S.nonzero())\n",
    "    for i, s in zip(indices, S.shape):\n",
    "        i -= s // 2\n",
    "\n",
    "    for stride, coords in zip(strides, reversed(indices)):\n",
    "        diags += stride * coords\n",
    "\n",
    "    data = S[S != 0].repeat(N_v).reshape(N_s, N_v)\n",
    "\n",
    "    indices = np.vstack(indices).T\n",
    "\n",
    "    # zero boundary connections\n",
    "    for index, diag in zip(indices, data):\n",
    "        diag = diag.reshape(grid)\n",
    "        for n, i in enumerate(index):\n",
    "            if i > 0:\n",
    "                s = [slice(None)] * len(grid)\n",
    "                s[n] = slice(0, i)\n",
    "                s = tuple(s)\n",
    "                diag[s] = 0\n",
    "            elif i < 0:\n",
    "                s = [slice(None)]*len(grid)\n",
    "                s[n] = slice(i, None)\n",
    "                s = tuple(s)\n",
    "                diag[s] = 0\n",
    "\n",
    "    # remove diagonals that lie outside matrix\n",
    "    mask = abs(diags) < N_v\n",
    "    if not mask.all():\n",
    "        diags = diags[mask]\n",
    "        data = data[mask]\n",
    "\n",
    "    # sum duplicate diagonals\n",
    "    if len(np.unique(diags)) != len(diags):\n",
    "        new_diags = np.unique(diags)\n",
    "        new_data = np.zeros((len(new_diags), data.shape[1]),\n",
    "                            dtype=data.dtype)\n",
    "\n",
    "        for dia, dat in zip(diags, data):\n",
    "            n = np.searchsorted(new_diags, dia)\n",
    "            new_data[n, :] += dat\n",
    "\n",
    "        diags = new_diags\n",
    "        data = new_data\n",
    "\n",
    "    return sparse.dia_matrix((data, diags), shape=(N_v, N_v)).tocsr()\n",
    "\n",
    "sten = np.zeros((3,3))\n",
    "sten[[0,1,1,2],[1,0,2,1]] = -1\n",
    "sten[1,1] = 4\n",
    "\n",
    "A = stencil_grid(sten, (4,4))"
   ]
  },
  {
   "cell_type": "markdown",
   "metadata": {
    "id": "GGwEdlVnpUx4"
   },
   "source": [
    "### Set up the operators\n",
    "\n",
    "Let us consider the following problem:\n",
    "$$\n",
    "-\\varepsilon u_{xx} - u_{yy} = f(x,y)\n",
    "$$\n",
    "defined on a square domain with zero boundary conditions.\n",
    "\n",
    "The application of the finite diference discretization to the above problem yields the following stencil:\n",
    "$$\n",
    "\\left[\n",
    "\\begin{array}{rrr}\n",
    " & -1 & \\\\\n",
    " -\\varepsilon & 2 + 2\\varepsilon & -\\varepsilon\\\\\n",
    " & -1 &\n",
    "\\end{array}\n",
    "\\right]\n",
    "$$"
   ]
  },
  {
   "cell_type": "markdown",
   "metadata": {
    "id": "Zn4uzOfcUN0l"
   },
   "source": [
    "I have prepared one smoothers (relaxJ) as well as stencil generation and interpolation in the following cell. You can use them directly.\n",
    "\n"
   ]
  },
  {
   "cell_type": "code",
   "execution_count": 3,
   "metadata": {
    "id": "KJM_5nk8pgLX"
   },
   "outputs": [],
   "source": [
    "def relaxJ(A, u, f, nu):\n",
    "    n = A.shape[0]\n",
    "    unew = u.copy()\n",
    "    Dinv = sparse.spdiags(1./A.diagonal(), [0], n, n)\n",
    "    omega = 4 / 5\n",
    "\n",
    "    for i in range(nu):\n",
    "        unew += omega * Dinv * (f - A * unew)\n",
    "\n",
    "    return unew\n",
    "\n",
    "def interpolation1d(nc, nf):\n",
    "    d = np.repeat([[1, 2, 1]], nc, axis=0).T\n",
    "    I = np.zeros((3,nc), dtype=int)\n",
    "    for i in range(nc):\n",
    "        I[:,i] = [2*i, 2*i+1, 2*i+2]\n",
    "    J = np.repeat([np.arange(nc)], 3, axis=0)\n",
    "    P = sparse.coo_matrix(\n",
    "        (d.ravel(), (I.ravel(), J.ravel()))\n",
    "        ).tocsr()\n",
    "    return 0.5 * P\n",
    "\n",
    "def poissonop(n, epsilon=1):\n",
    "    \"\"\"\n",
    "    Create a 2D operator from a stencil.\n",
    "    \"\"\"\n",
    "    #sten = np.array([[0, -1, 0], [-1, 4, -1], [0, -1, 0]])\n",
    "    sten = np.array([[ 0      ,           -1.,  0],\n",
    "                     [-epsilon,  2+2*epsilon, -epsilon],\n",
    "                     [0       ,           -1,  0]])\n",
    "    A = stencil_grid(sten, (n, n))\n",
    "    return A"
   ]
  },
  {
   "cell_type": "markdown",
   "metadata": {
    "id": "02gKqi-xpryH"
   },
   "source": [
    "## 1.1  Smoothing effect on this problem\n",
    "\n",
    "Run the following three cells with three different `epsilon = 100, 1, 0.001`.\n",
    "\n",
    "To determine the effectiveness of the smoother relaxJ, one should identify the scenarios in which it performs optimally. This can be achieved by calculating the eigenvalues of the smoother relaxJ. Please derive the eigenvalues and eigenvectors of relaxJ and use the eigenvalues to explain the patterns in the three plots."
   ]
  },
  {
   "cell_type": "code",
   "execution_count": 4,
   "metadata": {
    "colab": {
     "base_uri": "https://localhost:8080/",
     "height": 470
    },
    "id": "_foeDp87p1gs",
    "outputId": "70b98019-08e7-4a8b-ca2e-b3d4ce581e2d"
   },
   "outputs": [
    {
     "data": {
      "text/plain": [
       "Text(0, 0.5, '$k_2$')"
      ]
     },
     "execution_count": 4,
     "metadata": {},
     "output_type": "execute_result"
    },
    {
     "data": {
      "image/png": "[encoded data removed]",
      "text/plain": [
       "<Figure size 640x480 with 2 Axes>"
      ]
     },
     "metadata": {},
     "output_type": "display_data"
    }
   ],
   "source": [
    "k = 5\n",
    "n = 2**k - 1\n",
    "nc = 2**(k-1) - 1\n",
    "A = poissonop(n, epsilon=1)\n",
    "f = np.zeros((n,n)).ravel()\n",
    "z = np.zeros((n,n))\n",
    "for k1 in range(1,n+1):\n",
    "    for k2 in range(1,n+1):\n",
    "        v = np.outer(np.sin(np.arange(1,n+1) * k1 * np.pi / (n+1)),\n",
    "                     np.sin(np.arange(1,n+1) * k2 * np.pi / (n+1)))\n",
    "        v = v.ravel()\n",
    "        nv0 = np.linalg.norm(v)\n",
    "        m = 10\n",
    "        v = relaxJ(A, v, f, m)\n",
    "        nv1 = np.linalg.norm(v)\n",
    "        z[k1-1,k2-1] = (nv1 / nv0)**(1/m)\n",
    "\n",
    "plt.pcolor(z)\n",
    "plt.colorbar()\n",
    "plt.xlabel('$k_1$')\n",
    "plt.ylabel('$k_2$')"
   ]
  },
  {
   "cell_type": "code",
   "execution_count": 5,
   "metadata": {
    "colab": {
     "base_uri": "https://localhost:8080/"
    },
    "id": "5x1jhbaUbREI",
    "outputId": "30699d15-14af-48cc-bd02-3d913eaf25e3"
   },
   "outputs": [
    {
     "data": {
      "text/plain": [
       "0.7200832466181062"
      ]
     },
     "execution_count": 5,
     "metadata": {},
     "output_type": "execute_result"
    }
   ],
   "source": [
    "np.sum(z<0.5)/np.sum(z>0)"
   ]
  },
  {
   "cell_type": "code",
   "execution_count": 6,
   "metadata": {
    "colab": {
     "base_uri": "https://localhost:8080/",
     "height": 470
    },
    "id": "WEwjpx8Frhqf",
    "outputId": "8742525a-250f-4911-a4b8-8a7b6aa22696"
   },
   "outputs": [
    {
     "data": {
      "text/plain": [
       "0.45161290322580644"
      ]
     },
     "execution_count": 6,
     "metadata": {},
     "output_type": "execute_result"
    },
    {
     "data": {
      "image/png": "[encoded data removed]",
      "text/plain": [
       "<Figure size 640x480 with 2 Axes>"
      ]
     },
     "metadata": {},
     "output_type": "display_data"
    }
   ],
   "source": [
    "k = 5\n",
    "n = 2**k - 1\n",
    "nc = 2**(k-1) - 1\n",
    "A = poissonop(n, epsilon=0.001)\n",
    "f = np.zeros((n,n)).ravel()\n",
    "z = np.zeros((n,n))\n",
    "for k1 in range(1,n+1):\n",
    "    for k2 in range(1,n+1):\n",
    "        v = np.outer(np.sin(np.arange(1,n+1) * k1 * np.pi / (n+1)),\n",
    "                     np.sin(np.arange(1,n+1) * k2 * np.pi / (n+1)))\n",
    "        v = v.ravel()\n",
    "        nv0 = np.linalg.norm(v)\n",
    "        m = 10\n",
    "        v = relaxJ(A, v, f, m)\n",
    "        nv1 = np.linalg.norm(v)\n",
    "        z[k1-1,k2-1] = (nv1 / nv0)**(1/m)\n",
    "\n",
    "plt.pcolor(z)\n",
    "plt.colorbar()\n",
    "plt.xlabel('$k_1$')\n",
    "plt.ylabel('$k_2$')\n",
    "np.sum(z<0.5)/np.sum(z>0)"
   ]
  },
  {
   "cell_type": "code",
   "execution_count": 7,
   "metadata": {
    "colab": {
     "base_uri": "https://localhost:8080/",
     "height": 470
    },
    "id": "-PF2Nqbdr5lU",
    "outputId": "51d9b137-8c57-4253-8783-e2db2b16a441"
   },
   "outputs": [
    {
     "data": {
      "text/plain": [
       "0.48074921956295524"
      ]
     },
     "execution_count": 7,
     "metadata": {},
     "output_type": "execute_result"
    },
    {
     "data": {
      "image/png": "[encoded data removed]",
      "text/plain": [
       "<Figure size 640x480 with 2 Axes>"
      ]
     },
     "metadata": {},
     "output_type": "display_data"
    }
   ],
   "source": [
    "k = 5\n",
    "n = 2**k - 1\n",
    "nc = 2**(k-1) - 1\n",
    "A = poissonop(n, epsilon=100)\n",
    "f = np.zeros((n,n)).ravel()\n",
    "z = np.zeros((n,n))\n",
    "for k1 in range(1,n+1):\n",
    "    for k2 in range(1,n+1):\n",
    "        v = np.outer(np.sin(np.arange(1,n+1) * k1 * np.pi / (n+1)),\n",
    "                     np.sin(np.arange(1,n+1) * k2 * np.pi / (n+1)))\n",
    "        v = v.ravel()\n",
    "        nv0 = np.linalg.norm(v)\n",
    "        m = 10\n",
    "        v = relaxJ(A, v, f, m)\n",
    "        nv1 = np.linalg.norm(v)\n",
    "        z[k1-1,k2-1] = (nv1 / nv0)**(1/m)\n",
    "\n",
    "plt.pcolor(z)\n",
    "plt.colorbar()\n",
    "plt.xlabel('$k_1$')\n",
    "plt.ylabel('$k_2$')\n",
    "np.sum(z<0.5)/np.sum(z>0)"
   ]
  },
  {
   "cell_type": "markdown",
   "metadata": {
    "id": "GqTQ1xnhs3ie"
   },
   "source": [
    "Your answer: When dealing with a hard problem, it is best to break it into pieces that you know the answer to and go from there. In a 1D FD mesh (let's call this operator $T_x$, you have the canonical 1,2,1 tridiagonal structure. This leads you to the $\\lambda_k^{1\\text{D}} = 2 - 2\\cos(\\theta_k)$, where $\\theta_k := \\frac{\\pi k }{n+1}$, where $n$ is the number of nodes. This same computation outputs the eigenvectors of this operator $T_x$ to be $\\omega_k = [0, \\sin(\\theta_k), \\cdots, \\sin(i\\theta_k), \\cdots, \\sin(n\\theta_k)]^\\top$.\n",
    "\n",
    "However, we know a very relationship between the 1D and 2D problem using Kronecker products. Since we are doing the 1D FD mesh in two independent directions, we can write\n",
    "$$\\left(I_{n_x}\\otimes T_x + T_y \\otimes I_{n_y} \\right)\\left(\\omega_i\\otimes \\omega_j\\right) = \\left(\\epsilon \\lambda_i + \\lambda_j\\right)\\left(\\omega_i\\otimes \\omega_j\\right),$$\n",
    "where $T_x$ is now a tridiagonal matrix epsilon premultiplied by the 1,2,1 structure and $T_y$ has 1,2,1 tridiagonal structure. Because of this formulation the eigenvalues are $\\epsilon\\lambda_i+\\lambda_j$. \n",
    "\n",
    "The below graphs are estimated by using $A(\\omega_i\\otimes\\omega_j) = 0$ as a guess at each point. If the eigenvalue is large, then this corresponds to an oscillatory mode, so smoothing is very efficient. In the first pattern $\\epsilon = 1$, so it has this pattern because both $\\lambda_i + \\lambda_j$ is symmetric. And since we know that we are using the optimal damping of $omega = 4/5$ (not related to the eigenvalues $\\omega_i$, then we see a symmetric band of very small magnitudes also symmetrically in the upper right direction, but not completely in the corner, as those values are increasing again. This is because the optimal $\\omega = 4/5$ for the 2D problem is optimal smoothing for all of the eigenvalues being considered together, not necessarily optimal for each individual eigenvalue. \n",
    "\n",
    "The second graph is when $\\epsilon = 0.001, \\ll 1$. This shows that large values appear very close to the $k_1$ axis and decrease (and then increase slightly) as you increase along $k_2$. This again can be explained by analyzing the eigenvalues. When $\\epsilon\\ll 1$, then $\\epsilon\\lambda_i + \\lambda_j\\approx \\lambda_j$, since the $\\epsilon$ term is negligible. This explains why the large values are concentrated in horizontal bands and decrease as you increase along the $k_2$ direction. The end behavior is once again explained by the optimal $\\omega$ value.\n",
    "\n",
    "Similarly, when $\\epsilon = 100$, like in the last case $\\epsilon\\lambda_i + \\lambda_j \\approx \\epsilon\\lambda_i$, so we see that the large values are clustered when $k_1$ is small, and have very small impact from $k_2$. Increasing along the $k_1$ direction increases the eigenvalues, which means they are significantly smaller after smoothing. "
   ]
  },
  {
   "cell_type": "markdown",
   "metadata": {
    "id": "_Bae0enGs9fY"
   },
   "source": [
    "## 1.2 Let us try a two grid method on this problem"
   ]
  },
  {
   "cell_type": "code",
   "execution_count": 8,
   "metadata": {
    "id": "95AQJD9sxub4"
   },
   "outputs": [],
   "source": [
    "def stencil_grid(S, grid):\n",
    "    N_v = np.prod(grid)  # number of vertices in the mesh\n",
    "    N_s = (S != 0).sum() # number of nonzero stencil entries\n",
    "\n",
    "    # diagonal offsets\n",
    "    diags = np.zeros(N_s, dtype=int)\n",
    "\n",
    "    # compute index offset of each dof within the stencil\n",
    "    strides = np.cumprod([1] + list(reversed(grid)))[:-1]\n",
    "    indices = tuple(i.copy() for i in S.nonzero())\n",
    "    for i, s in zip(indices, S.shape):\n",
    "        i -= s // 2\n",
    "\n",
    "    for stride, coords in zip(strides, reversed(indices)):\n",
    "        diags += stride * coords\n",
    "\n",
    "    data = S[S != 0].repeat(N_v).reshape(N_s, N_v)\n",
    "\n",
    "    indices = np.vstack(indices).T\n",
    "\n",
    "    # zero boundary connections\n",
    "    for index, diag in zip(indices, data):\n",
    "        diag = diag.reshape(grid)\n",
    "        for n, i in enumerate(index):\n",
    "            if i > 0:\n",
    "                s = [slice(None)] * len(grid)\n",
    "                s[n] = slice(0, i)\n",
    "                s = tuple(s)\n",
    "                diag[s] = 0\n",
    "            elif i < 0:\n",
    "                s = [slice(None)]*len(grid)\n",
    "                s[n] = slice(i, None)\n",
    "                s = tuple(s)\n",
    "                diag[s] = 0\n",
    "\n",
    "    # remove diagonals that lie outside matrix\n",
    "    mask = abs(diags) < N_v\n",
    "    if not mask.all():\n",
    "        diags = diags[mask]\n",
    "        data = data[mask]\n",
    "\n",
    "    # sum duplicate diagonals\n",
    "    if len(np.unique(diags)) != len(diags):\n",
    "        new_diags = np.unique(diags)\n",
    "        new_data = np.zeros((len(new_diags), data.shape[1]),\n",
    "                            dtype=data.dtype)\n",
    "\n",
    "        for dia, dat in zip(diags, data):\n",
    "            n = np.searchsorted(new_diags, dia)\n",
    "            new_data[n, :] += dat\n",
    "\n",
    "        diags = new_diags\n",
    "        data = new_data\n",
    "\n",
    "    return sparse.dia_matrix((data, diags), shape=(N_v, N_v)).tocsr()"
   ]
  },
  {
   "cell_type": "code",
   "execution_count": 9,
   "metadata": {
    "id": "s5rwQzRMxwIh"
   },
   "outputs": [],
   "source": [
    "def trisolver(a, b, c, rhs):\n",
    "    '''\n",
    "    https://gist.github.com/TheoChristiaanse/d168b7e57dd30342a81aa1dc4eb3e469\n",
    "    '''\n",
    "    nf = len(rhs) # number of equations\n",
    "    ac, bc, cc, rhsc = map(np.array, (a, b, c, rhs)) # copy arrays\n",
    "    for it in range(1, nf):\n",
    "        mc = ac[it-1] / bc[it-1]\n",
    "        bc[it] = bc[it] - mc*cc[it-1]\n",
    "        rhsc[it] = rhsc[it] - mc*rhsc[it-1]\n",
    "    xc = bc\n",
    "    xc[-1] = rhsc[-1] / bc[-1]\n",
    "\n",
    "    for il in range(nf-2, -1, -1):\n",
    "        xc[il] = (rhsc[il] - cc[il] * xc[il+1]) / bc[il]\n",
    "\n",
    "    return xc"
   ]
  },
  {
   "cell_type": "code",
   "execution_count": 10,
   "metadata": {
    "id": "D18YReMpx2H3"
   },
   "outputs": [],
   "source": [
    "def interpolation1d(nc, nf):\n",
    "    d = np.repeat([[1, 2, 1]], nc, axis=0).T\n",
    "    I = np.zeros((3,nc), dtype=int)\n",
    "    for i in range(nc):\n",
    "        I[:,i] = [2*i, 2*i+1, 2*i+2]\n",
    "    J = np.repeat([np.arange(nc)], 3, axis=0)\n",
    "    P = sparse.coo_matrix(\n",
    "        (d.ravel(), (I.ravel(), J.ravel()))\n",
    "        ).tocsr()\n",
    "    return 0.5 * P\n",
    "\n",
    "def poissonop(n, sten):\n",
    "    #sten = np.array([[0, -1, 0], [-1, 4, -1], [0, -1, 0]])\n",
    "    A = stencil_grid(sten, (n, n))\n",
    "    return A\n",
    "\n",
    "def getsten(epsilon):\n",
    "    sten = np.array([[ 0      ,           -1.,  0],\n",
    "                     [-epsilon,  2+2*epsilon, -epsilon],\n",
    "                     [0       ,           -1,  0]])\n",
    "    return sten"
   ]
  },
  {
   "cell_type": "code",
   "execution_count": null,
   "metadata": {
    "id": "VzpYopgRx5BT"
   },
   "outputs": [],
   "source": []
  },
  {
   "cell_type": "markdown",
   "metadata": {
    "id": "FsHJZ0bax8KJ"
   },
   "source": [
    "### Try smoothing\n",
    "\n",
    "Let us first use the standard Jacobi smoother to implement the two grid method.\n"
   ]
  },
  {
   "cell_type": "code",
   "execution_count": 11,
   "metadata": {
    "id": "Sf6AUa2MyP4J"
   },
   "outputs": [],
   "source": [
    "def twogrid(A, P, A1, u0, f0, nu, sten=None):\n",
    "    u0 = relaxJ(A, u0, f0, nu)\n",
    "    f1 = P.T * (f0 - A * u0)\n",
    "\n",
    "    u1 = sla.spsolve(A1, f1)\n",
    "\n",
    "    u0 = u0 + P * u1\n",
    "    u0 = relaxJ(A, u0, f0, nu)\n",
    "    return u0"
   ]
  },
  {
   "cell_type": "code",
   "execution_count": 12,
   "metadata": {
    "colab": {
     "base_uri": "https://localhost:8080/",
     "height": 476
    },
    "id": "cAayER8iya6R",
    "outputId": "19ea9663-476f-41c5-c95b-50bd0c45c177"
   },
   "outputs": [
    {
     "data": {
      "text/plain": [
       "(0.0, 1.0)"
      ]
     },
     "execution_count": 12,
     "metadata": {},
     "output_type": "execute_result"
    },
    {
     "data": {
      "image/png": "[encoded data removed]",
      "text/plain": [
       "<Figure size 640x480 with 1 Axes>"
      ]
     },
     "metadata": {},
     "output_type": "display_data"
    }
   ],
   "source": [
    "k = 5\n",
    "n = 2**k - 1\n",
    "nc = 2**(k-1) - 1\n",
    "elist = np.logspace(-3,3,50)\n",
    "m=20\n",
    "allres = np.zeros((len(elist),m))\n",
    "\n",
    "for i, epsilon in enumerate(elist):\n",
    "    u = np.random.rand(n*n)\n",
    "    f = np.zeros((n,n)).ravel()\n",
    "    sten = getsten(epsilon)\n",
    "    A = (n+1)**2 * poissonop(n, sten)\n",
    "    P1d = interpolation1d(nc, n)\n",
    "    P = sparse.kron(P1d, P1d).tocsr()\n",
    "    A1 = P.T * A * P\n",
    "    for j in range(m):\n",
    "        u = twogrid(A, P, A1, u, f, 1, (n+1)**2 * sten)\n",
    "        res = np.linalg.norm(f - A * u)\n",
    "        allres[i,j] = res\n",
    "\n",
    "factors = []\n",
    "for i in range(len(elist)):\n",
    "    factor = (allres[i,-1] / allres[i,-5])**(1/5)\n",
    "    factors.append(factor)\n",
    "\n",
    "plt.semilogx(elist, factors, 'o')\n",
    "plt.xlabel('$\\epsilon$')\n",
    "plt.ylabel('convergence factor')\n",
    "plt.ylim([0,1])"
   ]
  },
  {
   "cell_type": "markdown",
   "metadata": {
    "id": "iTCTnrm8zGf0"
   },
   "source": [
    "# Question: We then replace the relaxJ method with the following linerelax method and rerun the above experiment. What is your observation? Please try to eplain why this is the case if you can!!!\n",
    "\n",
    "After running the above code, it is observed that the convergence factor is very close to 1 when $\\epsilon$ is different orders of magnitdue compared to 1. When $\\epsilon$ is very small, we see high convergence factor, which means slow convergence. When $\\epsilon$ is very large, we again observe this near 1 convergence factor. However, when $\\epsilon \\approx 1$, then we see that the convergence factor is much smaller at about 0.4. \n",
    "\n",
    "Now with running the linerelax method, we observe drastically different behavior. We see that during the small $\\epsilon$ regime, the behavior isn't that different from the ```relaxJ``` method. However when $\\epsilon>1$, we see that as opposed to the```relaxJ``` case, the values get low around 1 and continue to get smaller and smaller as $\\epsilon$ increase to 1000.\n",
    "\n",
    "One possible explanation for thisw behavior is the following:\n",
    "First we notice that we are using a Jacobi smoother, which has the form: \n",
    "\\begin{align}\n",
    "x_{k+1} &= x_k + \\omega D^{-1}\\left(f- Ax_k\\right)\\\\\n",
    "&= \\left(I-\\omega D^{-1}A\\right) x_k + \\omega D^{-1}f,\n",
    "\\end{align}\n",
    "where $\\omega$ is the dampening value (optimal is $\\omega^\\ast = 4/5$). Now we define the distance vector $d_{k+1} = x^\\ast - x_{k+1}$, where $x^\\ast$ is the true solution. It is not hard to recursively show that\n",
    "\\begin{align}\n",
    "d_k &= \\left(I-\\omega D^{-1}A\\right)^k d_0\\\\\n",
    "&= \\left(I-\\omega D^{-1}A\\right)^k \\left(\\sum_i \\alpha_i \\omega_i\\right)\\\\\n",
    "&= \\sum_i \\alpha_i\\left(I-\\omega D^{-1}A\\right)^k\\omega_i,\n",
    "\\end{align}\n",
    "where we express $d_0$ as a linear combination of the eigenvectors (as they are linearly independent). Now we turn our attention to the inner part of $\\left(I-\\omega D^{-1}A\\right)$.\n",
    "\n",
    "We define $D_x := I\\otimes T_x + \\mathbf{0} \\otimes I$. Similarly, $D_y := I\\otimes \\mathbf{0} + T_y\\otimes I $. Observe that the zero matrix $\\mathbf{0}$ can be diagonalized trivially with the eigenbasis of either of the two operators $D_x$ or $D_y$, which means their eigenvalues are $(\\epsilon \\lambda_i + 0)$ and $(0+ \\lambda_j)$, respectively. This means that $A := I\\otimes T_x + T_y \\otimes I$ has eigenvectors $\\epsilon\\lambda_i + \\lambda_j$ and eigenvectors $\\omega_i \\otimes \\omega_j$. We diagonalize both $A$ and $D$ to arrive at\n",
    "\\begin{align}\n",
    "A &= Q\\Lambda_A Q^\\top\\\\\n",
    "D &= Q\\Lambda_D Q^\\top\\\\\n",
    "\\omega D^{-1}A &= \\omega Q\\Lambda_D^{-1} Q^\\top Q\\Lambda_A Q^\\top\\\\\n",
    "&=  \\omega Q\\Lambda_D^{-1}\\Lambda_A Q^\\top.\n",
    "\\end{align}\n",
    "\n",
    "However if we look at $D_x^{-1}A$ and $D_y^{-1}A$, we see\n",
    "\\begin{align}\n",
    "D_x^{-1}A &= \\frac{\\epsilon\\lambda_i + \\lambda_j}{\\epsilon\\lambda_i}\\left(\\omega_i \\otimes \\omega_j\\right)\\\\\n",
    "D_y^{-1}A &= \\frac{\\epsilon\\lambda_i + \\lambda_j}{\\lambda_j}\\left(\\omega_i \\otimes \\omega_j\\right).\n",
    "\\end{align}\n",
    "\n",
    "Combining it all, we observe:\n",
    "\\begin{align}\n",
    "\\left(I - \\omega D_x^{-1}A\\right)^k &= \\left(1 -\\frac{\\omega\\epsilon\\lambda_i + \\omega\\lambda_j}{\\epsilon\\lambda_i}\\right)^k\\left(\\omega_i \\otimes \\omega_j\\right)\\\\\n",
    "&= \\left(\\frac{\\omega\\lambda_j}{\\epsilon\\lambda_i}\\right)^k\\left(\\omega_i \\otimes \\omega_j\\right)\\\\\n",
    "\\left(I - \\omega D_y^{-1}A\\right)^k &= \\left( 1 - \\frac{\\omega\\epsilon\\lambda_i + \\omega\\lambda_j}{\\lambda_j}\\right)^k\\left(\\omega_i \\otimes \\omega_j\\right)\\\\\n",
    "&= \\left( \\frac{\\omega\\epsilon\\lambda_i}{\\lambda_j}\\right)^k\\left(\\omega_i \\otimes \\omega_j\\right)\n",
    "\\end{align}\n",
    "Clearly, we observe that for the first case, if $\\epsilon\\ll 1$ then the program will not have great results. This explains the above behavior. Conversely, if $\\epsilon\\gg1$then the second method will not work well."
   ]
  },
  {
   "cell_type": "code",
   "execution_count": 13,
   "metadata": {
    "id": "ZIJUxpLwdsOO"
   },
   "outputs": [],
   "source": [
    "def linerelax(A, u, f, nu,\n",
    "              sten,\n",
    "              direction='y'):\n",
    "    \"\"\"\n",
    "    'y' -- constant x\n",
    "    'x' -- constant y\n",
    "    \"\"\"\n",
    "    n = int(np.sqrt(len(f))) # assume a square grid\n",
    "\n",
    "    # get the stride\n",
    "    # linesten -- the stencil for the 1d problem\n",
    "    # offsten -- the weak stencil entries\n",
    "    if direction == 'x':\n",
    "        stride = 1\n",
    "        linesten = sten[1,:]\n",
    "        offsten = sten[[0,2],1]\n",
    "    if direction == 'y':\n",
    "        stride = n\n",
    "        linesten = sten[:,1]\n",
    "        offsten = sten[1,[0,2]]\n",
    "\n",
    "    # build the three vectors for the tridiagonal solver\n",
    "    T = np.array(linesten) * np.ones((n,3))\n",
    "\n",
    "    f = f.reshape((n,n))\n",
    "    unew = u.copy()\n",
    "    unew = unew.reshape((n,n))\n",
    "\n",
    "    # for each smoothing pass\n",
    "    for _ in range(nu):\n",
    "        # solve each line\n",
    "        for i in range(n):\n",
    "            if direction == 'x':\n",
    "                fline = f[i,:].copy()\n",
    "                if i > 1:\n",
    "                    fline -= offsten[0] * unew[i-1,:]\n",
    "                if i < (n-1):\n",
    "                    fline -= offsten[1] * unew[i+1,:]\n",
    "\n",
    "            if direction == 'y':\n",
    "                fline = f[:,i].copy()\n",
    "                if i > 1:\n",
    "                    fline -= offsten[0] * unew[:,i-1]\n",
    "                if i < (n-1):\n",
    "                    fline -= offsten[1] * unew[:,i+1]\n",
    "\n",
    "            uline = trisolver(T[:,0], T[:,1], T[:,2], fline)\n",
    "\n",
    "            if direction == 'x':\n",
    "                unew[i,:] = uline\n",
    "            if direction == 'y':\n",
    "                unew[:,i] = uline\n",
    "    return unew.ravel()"
   ]
  },
  {
   "cell_type": "code",
   "execution_count": 14,
   "metadata": {
    "id": "jl4VcPf2yS5I"
   },
   "outputs": [],
   "source": [
    "def Yourtwogrid(A, P, A1, u0, f0, nu, sten=None):\n",
    "    u0 = linerelax(A, u0, f0, nu, sten, direction='x')\n",
    "    f1 = P.T * (f0 - A * u0)\n",
    "\n",
    "    u1 = sla.spsolve(A1, f1)\n",
    "\n",
    "    u0 = u0 + P * u1\n",
    "    u0 = linerelax(A, u0, f0, nu, sten, direction='x')\n",
    "    return u0"
   ]
  },
  {
   "cell_type": "code",
   "execution_count": 15,
   "metadata": {
    "colab": {
     "base_uri": "https://localhost:8080/",
     "height": 476
    },
    "id": "wCqCOzmiyeFJ",
    "outputId": "11ddb5f3-bf23-402e-ede6-53dbdba4d7fc"
   },
   "outputs": [
    {
     "data": {
      "text/plain": [
       "(0.0, 1.0)"
      ]
     },
     "execution_count": 15,
     "metadata": {},
     "output_type": "execute_result"
    },
    {
     "data": {
      "image/png": "[encoded data removed]",
      "text/plain": [
       "<Figure size 640x480 with 1 Axes>"
      ]
     },
     "metadata": {},
     "output_type": "display_data"
    }
   ],
   "source": [
    "k = 5\n",
    "n = 2**k - 1\n",
    "nc = 2**(k-1) - 1\n",
    "elist = np.logspace(-3,3,50)\n",
    "m=20\n",
    "allres = np.zeros((len(elist),m))\n",
    "\n",
    "for i, epsilon in enumerate(elist):\n",
    "    u = np.random.rand(n*n)\n",
    "    f = np.zeros((n,n)).ravel()\n",
    "    sten = getsten(epsilon)\n",
    "    A = (n+1)**2 * poissonop(n, sten)\n",
    "    P1d = interpolation1d(nc, n)\n",
    "    P = sparse.kron(P1d, P1d).tocsr()\n",
    "    A1 = P.T * A * P\n",
    "    for j in range(m):\n",
    "        u = Yourtwogrid(A, P, A1, u, f, 1, (n+1)**2 * sten)\n",
    "        res = np.linalg.norm(f - A * u)\n",
    "        allres[i,j] = res\n",
    "\n",
    "factors = []\n",
    "for i in range(len(elist)):\n",
    "    factor = (allres[i,-1] / allres[i,-5])**(1/5)\n",
    "    factors.append(factor)\n",
    "\n",
    "plt.semilogx(elist, factors, 'o')\n",
    "plt.xlabel('$\\epsilon$')\n",
    "plt.ylabel('convergence factor')\n",
    "plt.ylim([0,1])"
   ]
  },
  {
   "cell_type": "markdown",
   "metadata": {
    "id": "yTatBGWhija8"
   },
   "source": [
    "# Question: Can you further modify the Yourtwogrid code to make it efficient for all $\\epsilon$?"
   ]
  },
  {
   "cell_type": "code",
   "execution_count": 16,
   "metadata": {
    "id": "tdQyjO5Pitpw"
   },
   "outputs": [],
   "source": [
    "def myYourtwogrid(A, P, A1, u0, f0, nu, epsilon, sten=None):\n",
    "    if epsilon > 1:\n",
    "        u0 = linerelax(A, u0, f0, nu, sten, direction='x')\n",
    "        f1 = P.T * (f0 - A * u0)\n",
    "\n",
    "        u1 = sla.spsolve(A1, f1)\n",
    "\n",
    "        u0 = u0 + P * u1\n",
    "        u0 = linerelax(A, u0, f0, nu, sten, direction='x')\n",
    "    else:\n",
    "        u0 = linerelax(A, u0, f0, nu, sten, direction='y')\n",
    "        f1 = P.T * (f0 - A * u0)\n",
    "\n",
    "        u1 = sla.spsolve(A1, f1)\n",
    "\n",
    "        u0 = u0 + P * u1\n",
    "        u0 = linerelax(A, u0, f0, nu, sten, direction='y')\n",
    "    return u0"
   ]
  },
  {
   "cell_type": "code",
   "execution_count": 17,
   "metadata": {},
   "outputs": [],
   "source": [
    "k = 5\n",
    "n = 2**k - 1\n",
    "nc = 2**(k-1) - 1\n",
    "elist = np.logspace(-3,3,50)\n",
    "m=20\n",
    "allres = np.zeros((len(elist),m))\n",
    "\n",
    "for i, epsilon in enumerate(elist):\n",
    "    u = np.random.rand(n*n)\n",
    "    f = np.zeros((n,n)).ravel()\n",
    "    sten = getsten(epsilon)\n",
    "    A = (n+1)**2 * poissonop(n, sten)\n",
    "    P1d = interpolation1d(nc, n)\n",
    "    P = sparse.kron(P1d, P1d).tocsr()\n",
    "    A1 = P.T * A * P\n",
    "    for j in range(m):\n",
    "        u = myYourtwogrid(A, P, A1, u, f, 1, epsilon, (n+1)**2 * sten)\n",
    "        res = np.linalg.norm(f - A * u)\n",
    "        allres[i,j] = res\n",
    "\n",
    "factors = []\n",
    "for i in range(len(elist)):\n",
    "    factor = (allres[i,-1] / allres[i,-5])**(1/5)\n",
    "    factors.append(factor)"
   ]
  },
  {
   "cell_type": "code",
   "execution_count": 18,
   "metadata": {},
   "outputs": [
    {
     "data": {
      "text/plain": [
       "[]"
      ]
     },
     "execution_count": 18,
     "metadata": {},
     "output_type": "execute_result"
    },
    {
     "data": {
      "image/png": "[encoded data removed]",
      "text/plain": [
       "<Figure size 640x480 with 1 Axes>"
      ]
     },
     "metadata": {},
     "output_type": "display_data"
    }
   ],
   "source": [
    "plt.semilogx(elist, factors, 'o')\n",
    "plt.title('myYourtwogrid- efficient for all epsilon')\n",
    "plt.xlabel('$\\epsilon$')\n",
    "plt.ylabel('convergence factor')\n",
    "plt.ylim([0,1])\n",
    "\n",
    "plt.plot()"
   ]
  },
  {
   "cell_type": "markdown",
   "metadata": {},
   "source": [
    "Your answer: As you can see with the above code blocks, by defining ```myYourtwogrid``` that now depends on $\\epsilon$, we can get very small convergence factors for all values of epsilon. We first check the value of epsilon, and if it is very large, we repeat what was done in the standard ```Yourtwogrid```, which is very efficient for large values of $\\epsilon$ as it does the line relax schema in the $x$-direction, as this corresponds to the last case. Going along the $x$-direction when $\\epsilon$ is large makes sense because there is a large decrease in the values after smoothing in that case. However, ```Yourtwogrid``` isn't effective in the small $\\epsilon$ regime. To modify that when $\\epsilon$ is small, ```myYourtwogrid``` will start by going in the $y$ direction which corresponds to the second case, and as a result will see a large decrease in the values. Incorporating the \"best-of-both-worlds\" approach, we have demonstrated small convergence factor for all $\\epsilon$."
   ]
  },
  {
   "cell_type": "markdown",
   "metadata": {
    "id": "6ITudbgXh_YF"
   },
   "source": [
    "This problem tells you that each PDE deserves a specific preconditioner! Constructing preconditioners is more an art than a science. Join us at [Preconditioning 2024](https://www.math.emory.edu/~yxi26/Precond24/) if you are interested in this topic!"
   ]
  },
  {
   "cell_type": "markdown",
   "metadata": {
    "id": "pusyTkv0pb2P"
   },
   "source": [
    "# Problem 2. Multigrid on unstructured meshes\n",
    "In this problem, you will learn how to Algebraic MG method is setup and used for solving unstructured problems."
   ]
  },
  {
   "cell_type": "markdown",
   "metadata": {
    "id": "Yvq6OZs7UxJ9"
   },
   "source": [
    "Load some data"
   ]
  },
  {
   "cell_type": "code",
   "execution_count": 19,
   "metadata": {
    "id": "wV9ZuXB7Up2v"
   },
   "outputs": [],
   "source": [
    "data = pyamg.gallery.load_example('airfoil')\n",
    "#data = pyamg.gallery.load_example('unit_square')"
   ]
  },
  {
   "cell_type": "markdown",
   "metadata": {
    "id": "yMcyouDiUvzq"
   },
   "source": [
    "Create vertices and edges (for plotting)\n"
   ]
  },
  {
   "cell_type": "code",
   "execution_count": 20,
   "metadata": {
    "id": "mY-2kRXzUrkx"
   },
   "outputs": [],
   "source": [
    "A = data['A'].tocsr()                              # matrix\n",
    "V = data['vertices'][:A.shape[0]]                  # vertices of each variable\n",
    "E = np.vstack((A.tocoo().row,A.tocoo().col)).T  # edges of the matrix graph"
   ]
  },
  {
   "cell_type": "markdown",
   "metadata": {
    "id": "1pGU3fsTUtww"
   },
   "source": [
    "create an AMG hierarchy"
   ]
  },
  {
   "cell_type": "code",
   "execution_count": 21,
   "metadata": {
    "colab": {
     "base_uri": "https://localhost:8080/"
    },
    "id": "SdlX6P8uUtTR",
    "outputId": "e399d687-d157-4672-95c7-095928107c49"
   },
   "outputs": [
    {
     "name": "stdout",
     "output_type": "stream",
     "text": [
      "MultilevelSolver\n",
      "Number of Levels:     3\n",
      "Operator Complexity:  1.517\n",
      "Grid Complexity:      1.369\n",
      "Coarse Solver:        'pinv'\n",
      "  level   unknowns     nonzeros\n",
      "     0         260         1682 [65.91%]\n",
      "     1          77          699 [27.39%]\n",
      "     2          19          171 [6.70%]\n",
      "\n"
     ]
    }
   ],
   "source": [
    "mls = pyamg.ruge_stuben_solver(A, max_levels=3, max_coarse=1,\n",
    "                               CF='RS',keep=True)\n",
    "print(mls)"
   ]
  },
  {
   "cell_type": "markdown",
   "metadata": {
    "id": "NxhE0RADeQOI"
   },
   "source": [
    "In AMG method, the unknowns will be classified into F_nodes (blue) and C_nodes (red) at each level based on some algebraic tests. The C_nodes (red) will be used to form the coarse grid operator based on the matrix-matrix multiplication $RAP$ we discussed during the lecture."
   ]
  },
  {
   "cell_type": "code",
   "execution_count": 22,
   "metadata": {
    "colab": {
     "base_uri": "https://localhost:8080/",
     "height": 543
    },
    "id": "meR93swtWiuM",
    "outputId": "22f108ff-8015-48ac-c30f-d3cc5cb7f3f8"
   },
   "outputs": [
    {
     "data": {
      "text/plain": [
       "<matplotlib.collections.PathCollection at 0x12a151250>"
      ]
     },
     "execution_count": 22,
     "metadata": {},
     "output_type": "execute_result"
    },
    {
     "data": {
      "image/png": "[encoded data removed]",
      "text/plain": [
       "<Figure size 600x600 with 1 Axes>"
      ]
     },
     "metadata": {},
     "output_type": "display_data"
    }
   ],
   "source": [
    "# The CF splitting, 1 == C-node and 0 == F-node\n",
    "splitting = mls.levels[0].splitting\n",
    "C_nodes = splitting == 1\n",
    "F_nodes = splitting == 0\n",
    "\n",
    "fig, ax = plt.subplots(figsize=(6,6))\n",
    "ax.axis('equal')\n",
    "\n",
    "for e in E:\n",
    "    plt.plot(V[e,0], V[e,1], 'k-', zorder=1)\n",
    "\n",
    "ax.scatter(V[:,0][C_nodes], V[:,1][C_nodes], c='r', s=100.0, zorder=2)  #plot C-nodes in red\n",
    "ax.scatter(V[:,0][F_nodes], V[:,1][F_nodes], c='b', s=100.0, zorder=2)  #plot F-nodes in blue\n",
    "#ax.set_xlim([-0.5,1.5])\n",
    "#ax.set_ylim([-0.5,0.5])"
   ]
  },
  {
   "cell_type": "markdown",
   "metadata": {
    "id": "fFaAI5f6UVQG"
   },
   "source": [
    " let's try a fairly small grid with the following stencil:"
   ]
  },
  {
   "cell_type": "code",
   "execution_count": 23,
   "metadata": {
    "colab": {
     "base_uri": "https://localhost:8080/"
    },
    "id": "iAmMFxKaUVQH",
    "outputId": "a1bc0809-3d0f-4782-84b0-58db21b60c8d"
   },
   "outputs": [
    {
     "name": "stdout",
     "output_type": "stream",
     "text": [
      "[[-0.2475 -0.505   0.2475]\n",
      " [-0.505   2.02   -0.505 ]\n",
      " [ 0.2475 -0.505  -0.2475]]\n"
     ]
    }
   ],
   "source": [
    "#theta = np.pi / 2\n",
    "theta = np.pi / 4\n",
    "epsilon = 0.01\n",
    "nx = 20\n",
    "ny = nx\n",
    "stencil = pyamg.gallery.diffusion.diffusion_stencil_2d(type='FD', epsilon=epsilon, theta=theta)\n",
    "print(stencil)\n",
    "A = pyamg.gallery.stencil_grid(stencil, (nx, ny), format='csr')"
   ]
  },
  {
   "cell_type": "markdown",
   "metadata": {
    "id": "P2eSAQPPUVQI"
   },
   "source": [
    "###  Build a CF hierarchy\n",
    "\n",
    "Use `ruge_stuben_solver` to build a CF hierarchy. With a few notes:\n",
    "\n",
    "- `keep` will simply retain all of the \"extra\" operators used to build the hierarch.  For example a list of the C/F nodes on each level.\n",
    "- `strength` sets the strength parameters.  Here `classical` is normally used.  The `norm` equal to `min` (rather than `abs`) avoids using the absolute value in the strength test so that large positive entries are treated as weak connections."
   ]
  },
  {
   "cell_type": "code",
   "execution_count": 24,
   "metadata": {
    "colab": {
     "base_uri": "https://localhost:8080/"
    },
    "id": "MtWAcU6NUVQI",
    "outputId": "907557de-f0bc-4f8d-b1fe-9e1412972c30"
   },
   "outputs": [
    {
     "name": "stdout",
     "output_type": "stream",
     "text": [
      "MultilevelSolver\n",
      "Number of Levels:     5\n",
      "Operator Complexity:  1.806\n",
      "Grid Complexity:      1.475\n",
      "Coarse Solver:        'pinv'\n",
      "  level   unknowns     nonzeros\n",
      "     0         400         3364 [55.37%]\n",
      "     1         133         1689 [27.80%]\n",
      "     2          44          900 [14.81%]\n",
      "     3          11          119 [1.96%]\n",
      "     4           2            4 [0.07%]\n",
      "\n"
     ]
    }
   ],
   "source": [
    "ml = pyamg.ruge_stuben_solver(A, keep=True,\n",
    "                              strength=('classical',\n",
    "                                        {'theta': 0.0,\n",
    "                                         'norm': 'min'}))\n",
    "print(ml)"
   ]
  },
  {
   "cell_type": "code",
   "execution_count": 25,
   "metadata": {
    "colab": {
     "base_uri": "https://localhost:8080/"
    },
    "id": "daVDJuktUVQJ",
    "outputId": "1a4d35e7-1137-40f8-a76a-30b9aebac9c9"
   },
   "outputs": [
    {
     "name": "stdout",
     "output_type": "stream",
     "text": [
      "MultilevelSolver\n",
      "Number of Levels:     5\n",
      "Operator Complexity:  1.806\n",
      "Grid Complexity:      1.475\n",
      "Coarse Solver:        'pinv'\n",
      "  level   unknowns     nonzeros\n",
      "     0         400         3364 [55.37%]\n",
      "     1         133         1689 [27.80%]\n",
      "     2          44          900 [14.81%]\n",
      "     3          11          119 [1.96%]\n",
      "     4           2            4 [0.07%]\n",
      "\n"
     ]
    }
   ],
   "source": [
    "ml = pyamg.ruge_stuben_solver(A, keep=True,\n",
    "                              strength=('classical',\n",
    "                                        {'theta': 0.0,\n",
    "                                         'norm': 'min'}))\n",
    "print(ml)"
   ]
  },
  {
   "cell_type": "markdown",
   "metadata": {
    "id": "RMNSs-yJUVQJ"
   },
   "source": [
    "### View the splitting\n",
    "\n",
    "We can vew the C/F splitting by inspecting the first `level`."
   ]
  },
  {
   "cell_type": "code",
   "execution_count": 26,
   "metadata": {
    "colab": {
     "base_uri": "https://localhost:8080/",
     "height": 447
    },
    "id": "yC6egMaPUVQJ",
    "outputId": "8e0747cb-258b-420e-9ddb-9c443202b4f8"
   },
   "outputs": [
    {
     "data": {
      "text/plain": [
       "<matplotlib.legend.Legend at 0x12aba9190>"
      ]
     },
     "execution_count": 26,
     "metadata": {},
     "output_type": "execute_result"
    },
    {
     "data": {
      "image/png": "[encoded data removed]",
      "text/plain": [
       "<Figure size 640x480 with 1 Axes>"
      ]
     },
     "metadata": {},
     "output_type": "display_data"
    }
   ],
   "source": [
    "X, Y = np.meshgrid(np.linspace(0,1,nx), np.linspace(0,1,ny))\n",
    "X = X.ravel()\n",
    "Y = Y.ravel()\n",
    "\n",
    "# The CF splitting, 1 == C-node and 0 == F-node\n",
    "splitting = ml.levels[0].splitting\n",
    "C_nodes = splitting == 1\n",
    "F_nodes = splitting == 0\n",
    "splittingc = ml.levels[1].splitting\n",
    "CC_nodes = splittingc == 1\n",
    "FF_nodes = splittingc == 0\n",
    "\n",
    "#I = C_nodes\n",
    "#plt.scatter(X[C_nodes[CC_nodes]], Y[C_nodes[CC_nodes]],\n",
    "#            marker='*', color='g',\n",
    "#            s=30.0, label='C pts')\n",
    "plt.scatter(X[C_nodes], Y[C_nodes],\n",
    "            marker='s',\n",
    "            s=30.0, label='C pts')\n",
    "plt.scatter(X[F_nodes], Y[F_nodes],\n",
    "            marker='s',\n",
    "            s=30.0, label='F pts', facecolor='w', edgecolor='r')\n",
    "plt.legend(frameon=True)"
   ]
  },
  {
   "cell_type": "markdown",
   "metadata": {
    "id": "i5JIAJGvUVQK"
   },
   "source": [
    "### The `ml` hierarchy\n",
    "\n",
    "Notice a few things about the hierarchy..."
   ]
  },
  {
   "cell_type": "markdown",
   "metadata": {
    "id": "AlWdDsJFUVQK"
   },
   "source": [
    "Each level has a number of attributes/functions:\n",
    "- `A` is the operator on this level\n",
    "- `P` interpolates **to** this level\n",
    "- `R` restricts **from** this level.  Simply `R=P.T` in this case.\n",
    "- `C` is a sparse matrix of strong connections\n",
    "- `splitting` holds C/F information\n",
    "- `presmoother` and `postsmoother` point to the relaxation routine"
   ]
  },
  {
   "cell_type": "code",
   "execution_count": 27,
   "metadata": {
    "colab": {
     "base_uri": "https://localhost:8080/"
    },
    "id": "MjYaLCSLUVQL",
    "outputId": "846bc6b6-a08b-4151-dfb5-4fa31f780887"
   },
   "outputs": [
    {
     "data": {
      "text/plain": [
       "['A',\n",
       " 'C',\n",
       " 'P',\n",
       " 'R',\n",
       " '__class__',\n",
       " '__delattr__',\n",
       " '__dict__',\n",
       " '__dir__',\n",
       " '__doc__',\n",
       " '__eq__',\n",
       " '__format__',\n",
       " '__ge__',\n",
       " '__getattribute__',\n",
       " '__getstate__',\n",
       " '__gt__',\n",
       " '__hash__',\n",
       " '__init__',\n",
       " '__init_subclass__',\n",
       " '__le__',\n",
       " '__lt__',\n",
       " '__module__',\n",
       " '__ne__',\n",
       " '__new__',\n",
       " '__reduce__',\n",
       " '__reduce_ex__',\n",
       " '__repr__',\n",
       " '__setattr__',\n",
       " '__sizeof__',\n",
       " '__str__',\n",
       " '__subclasshook__',\n",
       " '__weakref__',\n",
       " 'postsmoother',\n",
       " 'presmoother',\n",
       " 'splitting']"
      ]
     },
     "execution_count": 27,
     "metadata": {},
     "output_type": "execute_result"
    }
   ],
   "source": [
    "dir(ml.levels[0])"
   ]
  },
  {
   "cell_type": "markdown",
   "metadata": {
    "id": "BAzm65D2UVQM"
   },
   "source": [
    "- `Operator complexity` is the total sum of the `nnz` in all operators `A` compared to the fine level"
   ]
  },
  {
   "cell_type": "code",
   "execution_count": 28,
   "metadata": {
    "colab": {
     "base_uri": "https://localhost:8080/"
    },
    "id": "RG4ixVOKUVQM",
    "outputId": "b3a7551b-2ca6-4777-8964-19dcd242668d"
   },
   "outputs": [
    {
     "name": "stdout",
     "output_type": "stream",
     "text": [
      "[3364, 1689, 900, 119, 4]\n",
      "1.8061831153388823\n"
     ]
    }
   ],
   "source": [
    "Asizes = [ml.levels[i].A.nnz for i in range(len(ml.levels))]\n",
    "print(Asizes)\n",
    "print(np.sum(Asizes)/Asizes[0])"
   ]
  },
  {
   "cell_type": "markdown",
   "metadata": {
    "id": "nYYCkGVvUVQM"
   },
   "source": [
    "- `Grid Complexity` is the total sum of the unknowns per level, compared to the fine level"
   ]
  },
  {
   "cell_type": "code",
   "execution_count": 29,
   "metadata": {
    "colab": {
     "base_uri": "https://localhost:8080/"
    },
    "id": "8XUHyuqfUVQN",
    "outputId": "d6dfb955-ff6a-43d8-91f3-1fd6710207b4"
   },
   "outputs": [
    {
     "name": "stdout",
     "output_type": "stream",
     "text": [
      "[400, 133, 44, 11, 2]\n",
      "1.475\n"
     ]
    }
   ],
   "source": [
    "Asizes = [ml.levels[i].A.shape[0] for i in range(len(ml.levels))]\n",
    "print(Asizes)\n",
    "print(np.sum(Asizes)/Asizes[0])"
   ]
  },
  {
   "cell_type": "markdown",
   "metadata": {
    "id": "upbUBbsLUVQN"
   },
   "source": [
    "### Set up a problem and solve\n",
    "\n",
    "Now, set $f=0$ and the initial $u$ to random and solve.\n",
    "\n",
    "Note: you can set `accel='cg'` to use AMG as a preconditioner"
   ]
  },
  {
   "cell_type": "code",
   "execution_count": 30,
   "metadata": {
    "id": "oFui5uEBUVQN"
   },
   "outputs": [],
   "source": [
    "f = np.zeros(A.shape[0])\n",
    "u0 = np.random.randn(A.shape[0])\n",
    "res = []\n",
    "u = ml.solve(b=f, x0=u0, residuals=res, accel='cg')"
   ]
  },
  {
   "cell_type": "code",
   "execution_count": 31,
   "metadata": {
    "colab": {
     "base_uri": "https://localhost:8080/"
    },
    "id": "McKfOcFKUVQN",
    "outputId": "86dc58f7-d296-406d-cd5a-49cad5b2b7c7"
   },
   "outputs": [
    {
     "data": {
      "text/plain": [
       "array([0.01403469, 0.09167428, 0.12097432, 0.15470261, 0.14508073,\n",
       "       0.10336183, 0.12812002])"
      ]
     },
     "execution_count": 31,
     "metadata": {},
     "output_type": "execute_result"
    }
   ],
   "source": [
    "res = np.array(res)\n",
    "res[1:] / res[:-1]"
   ]
  },
  {
   "cell_type": "markdown",
   "metadata": {
    "id": "YBkYOqD3UVQN"
   },
   "source": [
    "### Now let us solve a large problem!!!"
   ]
  },
  {
   "cell_type": "code",
   "execution_count": 32,
   "metadata": {
    "colab": {
     "base_uri": "https://localhost:8080/"
    },
    "id": "i20_OFaLUVQN",
    "outputId": "355995cb-c214-452b-d645-a679738c861a"
   },
   "outputs": [
    {
     "name": "stdout",
     "output_type": "stream",
     "text": [
      "[[-0.2475 -0.505   0.2475]\n",
      " [-0.505   2.02   -0.505 ]\n",
      " [ 0.2475 -0.505  -0.2475]]\n"
     ]
    }
   ],
   "source": [
    "theta = np.pi / 4\n",
    "epsilon = 0.01\n",
    "nx = 1000\n",
    "ny = nx\n",
    "stencil = pyamg.gallery.diffusion.diffusion_stencil_2d(type='FD', epsilon=epsilon, theta=theta)\n",
    "print(stencil)\n",
    "A = pyamg.gallery.stencil_grid(stencil, (nx, ny), format='csr')"
   ]
  },
  {
   "cell_type": "code",
   "execution_count": 33,
   "metadata": {
    "colab": {
     "base_uri": "https://localhost:8080/"
    },
    "id": "ehbvjYGnUVQN",
    "outputId": "caa997a2-1787-425f-c728-a743516dd410"
   },
   "outputs": [
    {
     "name": "stdout",
     "output_type": "stream",
     "text": [
      "MultilevelSolver\n",
      "Number of Levels:     10\n",
      "Operator Complexity:  2.260\n",
      "Grid Complexity:      1.569\n",
      "Coarse Solver:        'pinv'\n",
      "  level   unknowns     nonzeros\n",
      "     0     1000000      8988004 [44.24%]\n",
      "     1      333333      4984009 [24.53%]\n",
      "     2      166666      4468716 [22.00%]\n",
      "     3       41666       863038 [4.25%]\n",
      "     4       20665       821995 [4.05%]\n",
      "     5        5165       151083 [0.74%]\n",
      "     6        1302        28590 [0.14%]\n",
      "     7         346         6758 [0.03%]\n",
      "     8         156         4178 [0.02%]\n",
      "     9          32          294 [0.00%]\n",
      "\n"
     ]
    }
   ],
   "source": [
    "ml = pyamg.ruge_stuben_solver(A, keep=True,\n",
    "                              strength=('classical',\n",
    "                                        {'theta': 0.25,\n",
    "                                         'norm': 'min'}))\n",
    "print(ml)"
   ]
  },
  {
   "cell_type": "code",
   "execution_count": 34,
   "metadata": {
    "id": "YGpMy4gZUVQN"
   },
   "outputs": [],
   "source": [
    "f = np.zeros(A.shape[0])\n",
    "u0 = np.random.randn(A.shape[0])\n",
    "rescg = []\n",
    "u = ml.solve(b=f, x0=u0, residuals=rescg, tol=1e-10, accel='cg')"
   ]
  },
  {
   "cell_type": "markdown",
   "metadata": {
    "id": "yQw_LORCw8DP"
   },
   "source": [
    "# Question: Follow the code from the previous cell, and run the MG code as the solver instead of the preconditioner for CG. Please compare the convergence by ploting two residual curves in one plot."
   ]
  },
  {
   "cell_type": "code",
   "execution_count": 35,
   "metadata": {
    "colab": {
     "base_uri": "https://localhost:8080/",
     "height": 106
    },
    "id": "c6nx3IUjgMro",
    "outputId": "1e7b4a0a-468e-4bff-b015-f5c6eb57f1b6"
   },
   "outputs": [],
   "source": [
    "## Your code:\n",
    "rescg1 = []\n",
    "u1 = ml.solve(b=f, x0=u0, residuals=rescg1, tol=1e-10)"
   ]
  },
  {
   "cell_type": "code",
   "execution_count": 36,
   "metadata": {},
   "outputs": [
    {
     "data": {
      "image/png": "[encoded data removed]",
      "text/plain": [
       "<Figure size 640x480 with 1 Axes>"
      ]
     },
     "metadata": {},
     "output_type": "display_data"
    }
   ],
   "source": [
    "plt.semilogy(rescg)\n",
    "plt.semilogy(rescg1)\n",
    "plt.legend(['preconditioner','solver'])\n",
    "plt.show()"
   ]
  },
  {
   "cell_type": "code",
   "execution_count": null,
   "metadata": {},
   "outputs": [],
   "source": []
  }
 ],
 "metadata": {
  "colab": {
   "provenance": []
  },
  "kernelspec": {
   "display_name": "Python 3 (ipykernel)",
   "language": "python",
   "name": "python3"
  },
  "language_info": {
   "codemirror_mode": {
    "name": "ipython",
    "version": 3
   },
   "file_extension": ".py",
   "mimetype": "text/x-python",
   "name": "python",
   "nbconvert_exporter": "python",
   "pygments_lexer": "ipython3",
   "version": "3.11.7"
  }
 },
 "nbformat": 4,
 "nbformat_minor": 4
}
